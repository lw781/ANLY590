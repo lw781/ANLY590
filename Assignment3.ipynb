{
  "nbformat": 4,
  "nbformat_minor": 0,
  "metadata": {
    "colab": {
      "name": "Assignment3.ipynb",
      "provenance": [],
      "collapsed_sections": []
    },
    "kernelspec": {
      "name": "python3",
      "display_name": "Python 3"
    },
    "widgets": {
      "application/vnd.jupyter.widget-state+json": {
        "1705eaac40eb4aa4869252f505b2de70": {
          "model_module": "@jupyter-widgets/controls",
          "model_name": "HBoxModel",
          "state": {
            "_view_name": "HBoxView",
            "_dom_classes": [],
            "_model_name": "HBoxModel",
            "_view_module": "@jupyter-widgets/controls",
            "_model_module_version": "1.5.0",
            "_view_count": null,
            "_view_module_version": "1.5.0",
            "box_style": "",
            "layout": "IPY_MODEL_b38af630454a468d8d94056e274524a4",
            "_model_module": "@jupyter-widgets/controls",
            "children": [
              "IPY_MODEL_8aa6edcea54344fd97562524537422b7",
              "IPY_MODEL_6fe213a4c3ba45de9bb4e43068fd0f8c"
            ]
          }
        },
        "b38af630454a468d8d94056e274524a4": {
          "model_module": "@jupyter-widgets/base",
          "model_name": "LayoutModel",
          "state": {
            "_view_name": "LayoutView",
            "grid_template_rows": null,
            "right": null,
            "justify_content": null,
            "_view_module": "@jupyter-widgets/base",
            "overflow": null,
            "_model_module_version": "1.2.0",
            "_view_count": null,
            "flex_flow": null,
            "width": null,
            "min_width": null,
            "border": null,
            "align_items": null,
            "bottom": null,
            "_model_module": "@jupyter-widgets/base",
            "top": null,
            "grid_column": null,
            "overflow_y": null,
            "overflow_x": null,
            "grid_auto_flow": null,
            "grid_area": null,
            "grid_template_columns": null,
            "flex": null,
            "_model_name": "LayoutModel",
            "justify_items": null,
            "grid_row": null,
            "max_height": null,
            "align_content": null,
            "visibility": null,
            "align_self": null,
            "height": null,
            "min_height": null,
            "padding": null,
            "grid_auto_rows": null,
            "grid_gap": null,
            "max_width": null,
            "order": null,
            "_view_module_version": "1.2.0",
            "grid_template_areas": null,
            "object_position": null,
            "object_fit": null,
            "grid_auto_columns": null,
            "margin": null,
            "display": null,
            "left": null
          }
        },
        "8aa6edcea54344fd97562524537422b7": {
          "model_module": "@jupyter-widgets/controls",
          "model_name": "FloatProgressModel",
          "state": {
            "_view_name": "ProgressView",
            "style": "IPY_MODEL_9c0681dbaf144365bb75bbd0f11dca9d",
            "_dom_classes": [],
            "description": "Dl Completed...: 100%",
            "_model_name": "FloatProgressModel",
            "bar_style": "success",
            "max": 1,
            "_view_module": "@jupyter-widgets/controls",
            "_model_module_version": "1.5.0",
            "value": 1,
            "_view_count": null,
            "_view_module_version": "1.5.0",
            "orientation": "horizontal",
            "min": 0,
            "description_tooltip": null,
            "_model_module": "@jupyter-widgets/controls",
            "layout": "IPY_MODEL_0c4d5e8db0c8472f8897d9b23fab36bd"
          }
        },
        "6fe213a4c3ba45de9bb4e43068fd0f8c": {
          "model_module": "@jupyter-widgets/controls",
          "model_name": "HTMLModel",
          "state": {
            "_view_name": "HTMLView",
            "style": "IPY_MODEL_708c4b44c32c44e6894f808225cbf0cc",
            "_dom_classes": [],
            "description": "",
            "_model_name": "HTMLModel",
            "placeholder": "​",
            "_view_module": "@jupyter-widgets/controls",
            "_model_module_version": "1.5.0",
            "value": " 1/1 [00:05&lt;00:00,  5.45s/ url]",
            "_view_count": null,
            "_view_module_version": "1.5.0",
            "description_tooltip": null,
            "_model_module": "@jupyter-widgets/controls",
            "layout": "IPY_MODEL_c14264ab94d44b669d4c313a1789884e"
          }
        },
        "9c0681dbaf144365bb75bbd0f11dca9d": {
          "model_module": "@jupyter-widgets/controls",
          "model_name": "ProgressStyleModel",
          "state": {
            "_view_name": "StyleView",
            "_model_name": "ProgressStyleModel",
            "description_width": "initial",
            "_view_module": "@jupyter-widgets/base",
            "_model_module_version": "1.5.0",
            "_view_count": null,
            "_view_module_version": "1.2.0",
            "bar_color": null,
            "_model_module": "@jupyter-widgets/controls"
          }
        },
        "0c4d5e8db0c8472f8897d9b23fab36bd": {
          "model_module": "@jupyter-widgets/base",
          "model_name": "LayoutModel",
          "state": {
            "_view_name": "LayoutView",
            "grid_template_rows": null,
            "right": null,
            "justify_content": null,
            "_view_module": "@jupyter-widgets/base",
            "overflow": null,
            "_model_module_version": "1.2.0",
            "_view_count": null,
            "flex_flow": null,
            "width": null,
            "min_width": null,
            "border": null,
            "align_items": null,
            "bottom": null,
            "_model_module": "@jupyter-widgets/base",
            "top": null,
            "grid_column": null,
            "overflow_y": null,
            "overflow_x": null,
            "grid_auto_flow": null,
            "grid_area": null,
            "grid_template_columns": null,
            "flex": null,
            "_model_name": "LayoutModel",
            "justify_items": null,
            "grid_row": null,
            "max_height": null,
            "align_content": null,
            "visibility": null,
            "align_self": null,
            "height": null,
            "min_height": null,
            "padding": null,
            "grid_auto_rows": null,
            "grid_gap": null,
            "max_width": null,
            "order": null,
            "_view_module_version": "1.2.0",
            "grid_template_areas": null,
            "object_position": null,
            "object_fit": null,
            "grid_auto_columns": null,
            "margin": null,
            "display": null,
            "left": null
          }
        },
        "708c4b44c32c44e6894f808225cbf0cc": {
          "model_module": "@jupyter-widgets/controls",
          "model_name": "DescriptionStyleModel",
          "state": {
            "_view_name": "StyleView",
            "_model_name": "DescriptionStyleModel",
            "description_width": "",
            "_view_module": "@jupyter-widgets/base",
            "_model_module_version": "1.5.0",
            "_view_count": null,
            "_view_module_version": "1.2.0",
            "_model_module": "@jupyter-widgets/controls"
          }
        },
        "c14264ab94d44b669d4c313a1789884e": {
          "model_module": "@jupyter-widgets/base",
          "model_name": "LayoutModel",
          "state": {
            "_view_name": "LayoutView",
            "grid_template_rows": null,
            "right": null,
            "justify_content": null,
            "_view_module": "@jupyter-widgets/base",
            "overflow": null,
            "_model_module_version": "1.2.0",
            "_view_count": null,
            "flex_flow": null,
            "width": null,
            "min_width": null,
            "border": null,
            "align_items": null,
            "bottom": null,
            "_model_module": "@jupyter-widgets/base",
            "top": null,
            "grid_column": null,
            "overflow_y": null,
            "overflow_x": null,
            "grid_auto_flow": null,
            "grid_area": null,
            "grid_template_columns": null,
            "flex": null,
            "_model_name": "LayoutModel",
            "justify_items": null,
            "grid_row": null,
            "max_height": null,
            "align_content": null,
            "visibility": null,
            "align_self": null,
            "height": null,
            "min_height": null,
            "padding": null,
            "grid_auto_rows": null,
            "grid_gap": null,
            "max_width": null,
            "order": null,
            "_view_module_version": "1.2.0",
            "grid_template_areas": null,
            "object_position": null,
            "object_fit": null,
            "grid_auto_columns": null,
            "margin": null,
            "display": null,
            "left": null
          }
        },
        "478152fb4d8646cc98fb1b858eaed819": {
          "model_module": "@jupyter-widgets/controls",
          "model_name": "HBoxModel",
          "state": {
            "_view_name": "HBoxView",
            "_dom_classes": [],
            "_model_name": "HBoxModel",
            "_view_module": "@jupyter-widgets/controls",
            "_model_module_version": "1.5.0",
            "_view_count": null,
            "_view_module_version": "1.5.0",
            "box_style": "",
            "layout": "IPY_MODEL_b2299902c90e4b61850dd095ef41b609",
            "_model_module": "@jupyter-widgets/controls",
            "children": [
              "IPY_MODEL_353cf089c2a64f01978f3751c8ab7fbb",
              "IPY_MODEL_d31c2f4f9f414e84ab004b4f0736653d"
            ]
          }
        },
        "b2299902c90e4b61850dd095ef41b609": {
          "model_module": "@jupyter-widgets/base",
          "model_name": "LayoutModel",
          "state": {
            "_view_name": "LayoutView",
            "grid_template_rows": null,
            "right": null,
            "justify_content": null,
            "_view_module": "@jupyter-widgets/base",
            "overflow": null,
            "_model_module_version": "1.2.0",
            "_view_count": null,
            "flex_flow": null,
            "width": null,
            "min_width": null,
            "border": null,
            "align_items": null,
            "bottom": null,
            "_model_module": "@jupyter-widgets/base",
            "top": null,
            "grid_column": null,
            "overflow_y": null,
            "overflow_x": null,
            "grid_auto_flow": null,
            "grid_area": null,
            "grid_template_columns": null,
            "flex": null,
            "_model_name": "LayoutModel",
            "justify_items": null,
            "grid_row": null,
            "max_height": null,
            "align_content": null,
            "visibility": null,
            "align_self": null,
            "height": null,
            "min_height": null,
            "padding": null,
            "grid_auto_rows": null,
            "grid_gap": null,
            "max_width": null,
            "order": null,
            "_view_module_version": "1.2.0",
            "grid_template_areas": null,
            "object_position": null,
            "object_fit": null,
            "grid_auto_columns": null,
            "margin": null,
            "display": null,
            "left": null
          }
        },
        "353cf089c2a64f01978f3751c8ab7fbb": {
          "model_module": "@jupyter-widgets/controls",
          "model_name": "FloatProgressModel",
          "state": {
            "_view_name": "ProgressView",
            "style": "IPY_MODEL_54527bf0e72c4045aeb56ea4fd367d32",
            "_dom_classes": [],
            "description": "Dl Size...: 100%",
            "_model_name": "FloatProgressModel",
            "bar_style": "success",
            "max": 1,
            "_view_module": "@jupyter-widgets/controls",
            "_model_module_version": "1.5.0",
            "value": 1,
            "_view_count": null,
            "_view_module_version": "1.5.0",
            "orientation": "horizontal",
            "min": 0,
            "description_tooltip": null,
            "_model_module": "@jupyter-widgets/controls",
            "layout": "IPY_MODEL_d2012b599a91474283b403c119fa731f"
          }
        },
        "d31c2f4f9f414e84ab004b4f0736653d": {
          "model_module": "@jupyter-widgets/controls",
          "model_name": "HTMLModel",
          "state": {
            "_view_name": "HTMLView",
            "style": "IPY_MODEL_640ab8c3feba47e9bbfc20be769f340a",
            "_dom_classes": [],
            "description": "",
            "_model_name": "HTMLModel",
            "placeholder": "​",
            "_view_module": "@jupyter-widgets/controls",
            "_model_module_version": "1.5.0",
            "value": " 162/162 [00:05&lt;00:00, 29.99 MiB/s]",
            "_view_count": null,
            "_view_module_version": "1.5.0",
            "description_tooltip": null,
            "_model_module": "@jupyter-widgets/controls",
            "layout": "IPY_MODEL_a1923209b13b4b4da9d36faafa1bdcc3"
          }
        },
        "54527bf0e72c4045aeb56ea4fd367d32": {
          "model_module": "@jupyter-widgets/controls",
          "model_name": "ProgressStyleModel",
          "state": {
            "_view_name": "StyleView",
            "_model_name": "ProgressStyleModel",
            "description_width": "initial",
            "_view_module": "@jupyter-widgets/base",
            "_model_module_version": "1.5.0",
            "_view_count": null,
            "_view_module_version": "1.2.0",
            "bar_color": null,
            "_model_module": "@jupyter-widgets/controls"
          }
        },
        "d2012b599a91474283b403c119fa731f": {
          "model_module": "@jupyter-widgets/base",
          "model_name": "LayoutModel",
          "state": {
            "_view_name": "LayoutView",
            "grid_template_rows": null,
            "right": null,
            "justify_content": null,
            "_view_module": "@jupyter-widgets/base",
            "overflow": null,
            "_model_module_version": "1.2.0",
            "_view_count": null,
            "flex_flow": null,
            "width": null,
            "min_width": null,
            "border": null,
            "align_items": null,
            "bottom": null,
            "_model_module": "@jupyter-widgets/base",
            "top": null,
            "grid_column": null,
            "overflow_y": null,
            "overflow_x": null,
            "grid_auto_flow": null,
            "grid_area": null,
            "grid_template_columns": null,
            "flex": null,
            "_model_name": "LayoutModel",
            "justify_items": null,
            "grid_row": null,
            "max_height": null,
            "align_content": null,
            "visibility": null,
            "align_self": null,
            "height": null,
            "min_height": null,
            "padding": null,
            "grid_auto_rows": null,
            "grid_gap": null,
            "max_width": null,
            "order": null,
            "_view_module_version": "1.2.0",
            "grid_template_areas": null,
            "object_position": null,
            "object_fit": null,
            "grid_auto_columns": null,
            "margin": null,
            "display": null,
            "left": null
          }
        },
        "640ab8c3feba47e9bbfc20be769f340a": {
          "model_module": "@jupyter-widgets/controls",
          "model_name": "DescriptionStyleModel",
          "state": {
            "_view_name": "StyleView",
            "_model_name": "DescriptionStyleModel",
            "description_width": "",
            "_view_module": "@jupyter-widgets/base",
            "_model_module_version": "1.5.0",
            "_view_count": null,
            "_view_module_version": "1.2.0",
            "_model_module": "@jupyter-widgets/controls"
          }
        },
        "a1923209b13b4b4da9d36faafa1bdcc3": {
          "model_module": "@jupyter-widgets/base",
          "model_name": "LayoutModel",
          "state": {
            "_view_name": "LayoutView",
            "grid_template_rows": null,
            "right": null,
            "justify_content": null,
            "_view_module": "@jupyter-widgets/base",
            "overflow": null,
            "_model_module_version": "1.2.0",
            "_view_count": null,
            "flex_flow": null,
            "width": null,
            "min_width": null,
            "border": null,
            "align_items": null,
            "bottom": null,
            "_model_module": "@jupyter-widgets/base",
            "top": null,
            "grid_column": null,
            "overflow_y": null,
            "overflow_x": null,
            "grid_auto_flow": null,
            "grid_area": null,
            "grid_template_columns": null,
            "flex": null,
            "_model_name": "LayoutModel",
            "justify_items": null,
            "grid_row": null,
            "max_height": null,
            "align_content": null,
            "visibility": null,
            "align_self": null,
            "height": null,
            "min_height": null,
            "padding": null,
            "grid_auto_rows": null,
            "grid_gap": null,
            "max_width": null,
            "order": null,
            "_view_module_version": "1.2.0",
            "grid_template_areas": null,
            "object_position": null,
            "object_fit": null,
            "grid_auto_columns": null,
            "margin": null,
            "display": null,
            "left": null
          }
        },
        "483a552f63a449df8c61babc78ff904f": {
          "model_module": "@jupyter-widgets/controls",
          "model_name": "HBoxModel",
          "state": {
            "_view_name": "HBoxView",
            "_dom_classes": [],
            "_model_name": "HBoxModel",
            "_view_module": "@jupyter-widgets/controls",
            "_model_module_version": "1.5.0",
            "_view_count": null,
            "_view_module_version": "1.5.0",
            "box_style": "",
            "layout": "IPY_MODEL_eac9a30a14804ea4a2fca026610962ec",
            "_model_module": "@jupyter-widgets/controls",
            "children": [
              "IPY_MODEL_e58d0b2b5fa14d23bf344619d0c26b6c",
              "IPY_MODEL_f90d83fb02dc4d059903bfb6cecd192d"
            ]
          }
        },
        "eac9a30a14804ea4a2fca026610962ec": {
          "model_module": "@jupyter-widgets/base",
          "model_name": "LayoutModel",
          "state": {
            "_view_name": "LayoutView",
            "grid_template_rows": null,
            "right": null,
            "justify_content": null,
            "_view_module": "@jupyter-widgets/base",
            "overflow": null,
            "_model_module_version": "1.2.0",
            "_view_count": null,
            "flex_flow": null,
            "width": null,
            "min_width": null,
            "border": null,
            "align_items": null,
            "bottom": null,
            "_model_module": "@jupyter-widgets/base",
            "top": null,
            "grid_column": null,
            "overflow_y": null,
            "overflow_x": null,
            "grid_auto_flow": null,
            "grid_area": null,
            "grid_template_columns": null,
            "flex": null,
            "_model_name": "LayoutModel",
            "justify_items": null,
            "grid_row": null,
            "max_height": null,
            "align_content": null,
            "visibility": null,
            "align_self": null,
            "height": null,
            "min_height": null,
            "padding": null,
            "grid_auto_rows": null,
            "grid_gap": null,
            "max_width": null,
            "order": null,
            "_view_module_version": "1.2.0",
            "grid_template_areas": null,
            "object_position": null,
            "object_fit": null,
            "grid_auto_columns": null,
            "margin": null,
            "display": null,
            "left": null
          }
        },
        "e58d0b2b5fa14d23bf344619d0c26b6c": {
          "model_module": "@jupyter-widgets/controls",
          "model_name": "FloatProgressModel",
          "state": {
            "_view_name": "ProgressView",
            "style": "IPY_MODEL_6f125c0e19e54a76a60ca7e0777089aa",
            "_dom_classes": [],
            "description": "Extraction completed...: 100%",
            "_model_name": "FloatProgressModel",
            "bar_style": "success",
            "max": 1,
            "_view_module": "@jupyter-widgets/controls",
            "_model_module_version": "1.5.0",
            "value": 1,
            "_view_count": null,
            "_view_module_version": "1.5.0",
            "orientation": "horizontal",
            "min": 0,
            "description_tooltip": null,
            "_model_module": "@jupyter-widgets/controls",
            "layout": "IPY_MODEL_890e399dfb60470ab49e7b6c7493068e"
          }
        },
        "f90d83fb02dc4d059903bfb6cecd192d": {
          "model_module": "@jupyter-widgets/controls",
          "model_name": "HTMLModel",
          "state": {
            "_view_name": "HTMLView",
            "style": "IPY_MODEL_310698c85ded4930ae94676a86daa276",
            "_dom_classes": [],
            "description": "",
            "_model_name": "HTMLModel",
            "placeholder": "​",
            "_view_module": "@jupyter-widgets/controls",
            "_model_module_version": "1.5.0",
            "value": " 1/1 [00:05&lt;00:00,  5.35s/ file]",
            "_view_count": null,
            "_view_module_version": "1.5.0",
            "description_tooltip": null,
            "_model_module": "@jupyter-widgets/controls",
            "layout": "IPY_MODEL_37f020dbcc0b445bb98d40b4d68a4d82"
          }
        },
        "6f125c0e19e54a76a60ca7e0777089aa": {
          "model_module": "@jupyter-widgets/controls",
          "model_name": "ProgressStyleModel",
          "state": {
            "_view_name": "StyleView",
            "_model_name": "ProgressStyleModel",
            "description_width": "initial",
            "_view_module": "@jupyter-widgets/base",
            "_model_module_version": "1.5.0",
            "_view_count": null,
            "_view_module_version": "1.2.0",
            "bar_color": null,
            "_model_module": "@jupyter-widgets/controls"
          }
        },
        "890e399dfb60470ab49e7b6c7493068e": {
          "model_module": "@jupyter-widgets/base",
          "model_name": "LayoutModel",
          "state": {
            "_view_name": "LayoutView",
            "grid_template_rows": null,
            "right": null,
            "justify_content": null,
            "_view_module": "@jupyter-widgets/base",
            "overflow": null,
            "_model_module_version": "1.2.0",
            "_view_count": null,
            "flex_flow": null,
            "width": null,
            "min_width": null,
            "border": null,
            "align_items": null,
            "bottom": null,
            "_model_module": "@jupyter-widgets/base",
            "top": null,
            "grid_column": null,
            "overflow_y": null,
            "overflow_x": null,
            "grid_auto_flow": null,
            "grid_area": null,
            "grid_template_columns": null,
            "flex": null,
            "_model_name": "LayoutModel",
            "justify_items": null,
            "grid_row": null,
            "max_height": null,
            "align_content": null,
            "visibility": null,
            "align_self": null,
            "height": null,
            "min_height": null,
            "padding": null,
            "grid_auto_rows": null,
            "grid_gap": null,
            "max_width": null,
            "order": null,
            "_view_module_version": "1.2.0",
            "grid_template_areas": null,
            "object_position": null,
            "object_fit": null,
            "grid_auto_columns": null,
            "margin": null,
            "display": null,
            "left": null
          }
        },
        "310698c85ded4930ae94676a86daa276": {
          "model_module": "@jupyter-widgets/controls",
          "model_name": "DescriptionStyleModel",
          "state": {
            "_view_name": "StyleView",
            "_model_name": "DescriptionStyleModel",
            "description_width": "",
            "_view_module": "@jupyter-widgets/base",
            "_model_module_version": "1.5.0",
            "_view_count": null,
            "_view_module_version": "1.2.0",
            "_model_module": "@jupyter-widgets/controls"
          }
        },
        "37f020dbcc0b445bb98d40b4d68a4d82": {
          "model_module": "@jupyter-widgets/base",
          "model_name": "LayoutModel",
          "state": {
            "_view_name": "LayoutView",
            "grid_template_rows": null,
            "right": null,
            "justify_content": null,
            "_view_module": "@jupyter-widgets/base",
            "overflow": null,
            "_model_module_version": "1.2.0",
            "_view_count": null,
            "flex_flow": null,
            "width": null,
            "min_width": null,
            "border": null,
            "align_items": null,
            "bottom": null,
            "_model_module": "@jupyter-widgets/base",
            "top": null,
            "grid_column": null,
            "overflow_y": null,
            "overflow_x": null,
            "grid_auto_flow": null,
            "grid_area": null,
            "grid_template_columns": null,
            "flex": null,
            "_model_name": "LayoutModel",
            "justify_items": null,
            "grid_row": null,
            "max_height": null,
            "align_content": null,
            "visibility": null,
            "align_self": null,
            "height": null,
            "min_height": null,
            "padding": null,
            "grid_auto_rows": null,
            "grid_gap": null,
            "max_width": null,
            "order": null,
            "_view_module_version": "1.2.0",
            "grid_template_areas": null,
            "object_position": null,
            "object_fit": null,
            "grid_auto_columns": null,
            "margin": null,
            "display": null,
            "left": null
          }
        },
        "06d1eabc99de4f2db312c93b51b4bab2": {
          "model_module": "@jupyter-widgets/controls",
          "model_name": "HBoxModel",
          "state": {
            "_view_name": "HBoxView",
            "_dom_classes": [],
            "_model_name": "HBoxModel",
            "_view_module": "@jupyter-widgets/controls",
            "_model_module_version": "1.5.0",
            "_view_count": null,
            "_view_module_version": "1.5.0",
            "box_style": "",
            "layout": "IPY_MODEL_3e5989ddfba542319fd3526e8c800c3f",
            "_model_module": "@jupyter-widgets/controls",
            "children": [
              "IPY_MODEL_024a8a31669f448cb70d655f230e8d45",
              "IPY_MODEL_a3c192bba69842bd9e094d0598437eae"
            ]
          }
        },
        "3e5989ddfba542319fd3526e8c800c3f": {
          "model_module": "@jupyter-widgets/base",
          "model_name": "LayoutModel",
          "state": {
            "_view_name": "LayoutView",
            "grid_template_rows": null,
            "right": null,
            "justify_content": null,
            "_view_module": "@jupyter-widgets/base",
            "overflow": null,
            "_model_module_version": "1.2.0",
            "_view_count": null,
            "flex_flow": null,
            "width": null,
            "min_width": null,
            "border": null,
            "align_items": null,
            "bottom": null,
            "_model_module": "@jupyter-widgets/base",
            "top": null,
            "grid_column": null,
            "overflow_y": null,
            "overflow_x": null,
            "grid_auto_flow": null,
            "grid_area": null,
            "grid_template_columns": null,
            "flex": null,
            "_model_name": "LayoutModel",
            "justify_items": null,
            "grid_row": null,
            "max_height": null,
            "align_content": null,
            "visibility": null,
            "align_self": null,
            "height": null,
            "min_height": null,
            "padding": null,
            "grid_auto_rows": null,
            "grid_gap": null,
            "max_width": null,
            "order": null,
            "_view_module_version": "1.2.0",
            "grid_template_areas": null,
            "object_position": null,
            "object_fit": null,
            "grid_auto_columns": null,
            "margin": null,
            "display": null,
            "left": null
          }
        },
        "024a8a31669f448cb70d655f230e8d45": {
          "model_module": "@jupyter-widgets/controls",
          "model_name": "FloatProgressModel",
          "state": {
            "_view_name": "ProgressView",
            "style": "IPY_MODEL_6902cf6b860b4734bc0872649db7c3ca",
            "_dom_classes": [],
            "description": "",
            "_model_name": "FloatProgressModel",
            "bar_style": "info",
            "max": 1,
            "_view_module": "@jupyter-widgets/controls",
            "_model_module_version": "1.5.0",
            "value": 1,
            "_view_count": null,
            "_view_module_version": "1.5.0",
            "orientation": "horizontal",
            "min": 0,
            "description_tooltip": null,
            "_model_module": "@jupyter-widgets/controls",
            "layout": "IPY_MODEL_9f05ae6d021a4c46a137f6aa9efd6450"
          }
        },
        "a3c192bba69842bd9e094d0598437eae": {
          "model_module": "@jupyter-widgets/controls",
          "model_name": "HTMLModel",
          "state": {
            "_view_name": "HTMLView",
            "style": "IPY_MODEL_1d3127772ca849d9aec24635fd0fdbb1",
            "_dom_classes": [],
            "description": "",
            "_model_name": "HTMLModel",
            "placeholder": "​",
            "_view_module": "@jupyter-widgets/controls",
            "_model_module_version": "1.5.0",
            "value": " 50000/0 [00:33&lt;00:00, 1488.63 examples/s]",
            "_view_count": null,
            "_view_module_version": "1.5.0",
            "description_tooltip": null,
            "_model_module": "@jupyter-widgets/controls",
            "layout": "IPY_MODEL_7739adde354e493f8c402ef66f1b6559"
          }
        },
        "6902cf6b860b4734bc0872649db7c3ca": {
          "model_module": "@jupyter-widgets/controls",
          "model_name": "ProgressStyleModel",
          "state": {
            "_view_name": "StyleView",
            "_model_name": "ProgressStyleModel",
            "description_width": "initial",
            "_view_module": "@jupyter-widgets/base",
            "_model_module_version": "1.5.0",
            "_view_count": null,
            "_view_module_version": "1.2.0",
            "bar_color": null,
            "_model_module": "@jupyter-widgets/controls"
          }
        },
        "9f05ae6d021a4c46a137f6aa9efd6450": {
          "model_module": "@jupyter-widgets/base",
          "model_name": "LayoutModel",
          "state": {
            "_view_name": "LayoutView",
            "grid_template_rows": null,
            "right": null,
            "justify_content": null,
            "_view_module": "@jupyter-widgets/base",
            "overflow": null,
            "_model_module_version": "1.2.0",
            "_view_count": null,
            "flex_flow": null,
            "width": null,
            "min_width": null,
            "border": null,
            "align_items": null,
            "bottom": null,
            "_model_module": "@jupyter-widgets/base",
            "top": null,
            "grid_column": null,
            "overflow_y": null,
            "overflow_x": null,
            "grid_auto_flow": null,
            "grid_area": null,
            "grid_template_columns": null,
            "flex": null,
            "_model_name": "LayoutModel",
            "justify_items": null,
            "grid_row": null,
            "max_height": null,
            "align_content": null,
            "visibility": null,
            "align_self": null,
            "height": null,
            "min_height": null,
            "padding": null,
            "grid_auto_rows": null,
            "grid_gap": null,
            "max_width": null,
            "order": null,
            "_view_module_version": "1.2.0",
            "grid_template_areas": null,
            "object_position": null,
            "object_fit": null,
            "grid_auto_columns": null,
            "margin": null,
            "display": null,
            "left": null
          }
        },
        "1d3127772ca849d9aec24635fd0fdbb1": {
          "model_module": "@jupyter-widgets/controls",
          "model_name": "DescriptionStyleModel",
          "state": {
            "_view_name": "StyleView",
            "_model_name": "DescriptionStyleModel",
            "description_width": "",
            "_view_module": "@jupyter-widgets/base",
            "_model_module_version": "1.5.0",
            "_view_count": null,
            "_view_module_version": "1.2.0",
            "_model_module": "@jupyter-widgets/controls"
          }
        },
        "7739adde354e493f8c402ef66f1b6559": {
          "model_module": "@jupyter-widgets/base",
          "model_name": "LayoutModel",
          "state": {
            "_view_name": "LayoutView",
            "grid_template_rows": null,
            "right": null,
            "justify_content": null,
            "_view_module": "@jupyter-widgets/base",
            "overflow": null,
            "_model_module_version": "1.2.0",
            "_view_count": null,
            "flex_flow": null,
            "width": null,
            "min_width": null,
            "border": null,
            "align_items": null,
            "bottom": null,
            "_model_module": "@jupyter-widgets/base",
            "top": null,
            "grid_column": null,
            "overflow_y": null,
            "overflow_x": null,
            "grid_auto_flow": null,
            "grid_area": null,
            "grid_template_columns": null,
            "flex": null,
            "_model_name": "LayoutModel",
            "justify_items": null,
            "grid_row": null,
            "max_height": null,
            "align_content": null,
            "visibility": null,
            "align_self": null,
            "height": null,
            "min_height": null,
            "padding": null,
            "grid_auto_rows": null,
            "grid_gap": null,
            "max_width": null,
            "order": null,
            "_view_module_version": "1.2.0",
            "grid_template_areas": null,
            "object_position": null,
            "object_fit": null,
            "grid_auto_columns": null,
            "margin": null,
            "display": null,
            "left": null
          }
        },
        "a3dd49b1c1754ff2bbf614695303a092": {
          "model_module": "@jupyter-widgets/controls",
          "model_name": "HBoxModel",
          "state": {
            "_view_name": "HBoxView",
            "_dom_classes": [],
            "_model_name": "HBoxModel",
            "_view_module": "@jupyter-widgets/controls",
            "_model_module_version": "1.5.0",
            "_view_count": null,
            "_view_module_version": "1.5.0",
            "box_style": "",
            "layout": "IPY_MODEL_6f0800ee43304679bff9dd942c5a987e",
            "_model_module": "@jupyter-widgets/controls",
            "children": [
              "IPY_MODEL_870d5d8b76a245b1837bf6d125bfc544",
              "IPY_MODEL_9e922215c91243a1a7e70733d0635a2f"
            ]
          }
        },
        "6f0800ee43304679bff9dd942c5a987e": {
          "model_module": "@jupyter-widgets/base",
          "model_name": "LayoutModel",
          "state": {
            "_view_name": "LayoutView",
            "grid_template_rows": null,
            "right": null,
            "justify_content": null,
            "_view_module": "@jupyter-widgets/base",
            "overflow": null,
            "_model_module_version": "1.2.0",
            "_view_count": null,
            "flex_flow": null,
            "width": null,
            "min_width": null,
            "border": null,
            "align_items": null,
            "bottom": null,
            "_model_module": "@jupyter-widgets/base",
            "top": null,
            "grid_column": null,
            "overflow_y": null,
            "overflow_x": null,
            "grid_auto_flow": null,
            "grid_area": null,
            "grid_template_columns": null,
            "flex": null,
            "_model_name": "LayoutModel",
            "justify_items": null,
            "grid_row": null,
            "max_height": null,
            "align_content": null,
            "visibility": null,
            "align_self": null,
            "height": null,
            "min_height": null,
            "padding": null,
            "grid_auto_rows": null,
            "grid_gap": null,
            "max_width": null,
            "order": null,
            "_view_module_version": "1.2.0",
            "grid_template_areas": null,
            "object_position": null,
            "object_fit": null,
            "grid_auto_columns": null,
            "margin": null,
            "display": null,
            "left": null
          }
        },
        "870d5d8b76a245b1837bf6d125bfc544": {
          "model_module": "@jupyter-widgets/controls",
          "model_name": "FloatProgressModel",
          "state": {
            "_view_name": "ProgressView",
            "style": "IPY_MODEL_d00c36c1864a4bb484a88334a1090795",
            "_dom_classes": [],
            "description": " 87%",
            "_model_name": "FloatProgressModel",
            "bar_style": "danger",
            "max": 50000,
            "_view_module": "@jupyter-widgets/controls",
            "_model_module_version": "1.5.0",
            "value": 43434,
            "_view_count": null,
            "_view_module_version": "1.5.0",
            "orientation": "horizontal",
            "min": 0,
            "description_tooltip": null,
            "_model_module": "@jupyter-widgets/controls",
            "layout": "IPY_MODEL_e6d82b104bf44b978a03fe0221fd7eb8"
          }
        },
        "9e922215c91243a1a7e70733d0635a2f": {
          "model_module": "@jupyter-widgets/controls",
          "model_name": "HTMLModel",
          "state": {
            "_view_name": "HTMLView",
            "style": "IPY_MODEL_50d43f55f3ad4b0dbcbf478cba3e8432",
            "_dom_classes": [],
            "description": "",
            "_model_name": "HTMLModel",
            "placeholder": "​",
            "_view_module": "@jupyter-widgets/controls",
            "_model_module_version": "1.5.0",
            "value": " 43434/50000 [00:00&lt;01:53, 57.80 examples/s]",
            "_view_count": null,
            "_view_module_version": "1.5.0",
            "description_tooltip": null,
            "_model_module": "@jupyter-widgets/controls",
            "layout": "IPY_MODEL_66354c2774e24028a6dbea051e29f6e9"
          }
        },
        "d00c36c1864a4bb484a88334a1090795": {
          "model_module": "@jupyter-widgets/controls",
          "model_name": "ProgressStyleModel",
          "state": {
            "_view_name": "StyleView",
            "_model_name": "ProgressStyleModel",
            "description_width": "initial",
            "_view_module": "@jupyter-widgets/base",
            "_model_module_version": "1.5.0",
            "_view_count": null,
            "_view_module_version": "1.2.0",
            "bar_color": null,
            "_model_module": "@jupyter-widgets/controls"
          }
        },
        "e6d82b104bf44b978a03fe0221fd7eb8": {
          "model_module": "@jupyter-widgets/base",
          "model_name": "LayoutModel",
          "state": {
            "_view_name": "LayoutView",
            "grid_template_rows": null,
            "right": null,
            "justify_content": null,
            "_view_module": "@jupyter-widgets/base",
            "overflow": null,
            "_model_module_version": "1.2.0",
            "_view_count": null,
            "flex_flow": null,
            "width": null,
            "min_width": null,
            "border": null,
            "align_items": null,
            "bottom": null,
            "_model_module": "@jupyter-widgets/base",
            "top": null,
            "grid_column": null,
            "overflow_y": null,
            "overflow_x": null,
            "grid_auto_flow": null,
            "grid_area": null,
            "grid_template_columns": null,
            "flex": null,
            "_model_name": "LayoutModel",
            "justify_items": null,
            "grid_row": null,
            "max_height": null,
            "align_content": null,
            "visibility": null,
            "align_self": null,
            "height": null,
            "min_height": null,
            "padding": null,
            "grid_auto_rows": null,
            "grid_gap": null,
            "max_width": null,
            "order": null,
            "_view_module_version": "1.2.0",
            "grid_template_areas": null,
            "object_position": null,
            "object_fit": null,
            "grid_auto_columns": null,
            "margin": null,
            "display": null,
            "left": null
          }
        },
        "50d43f55f3ad4b0dbcbf478cba3e8432": {
          "model_module": "@jupyter-widgets/controls",
          "model_name": "DescriptionStyleModel",
          "state": {
            "_view_name": "StyleView",
            "_model_name": "DescriptionStyleModel",
            "description_width": "",
            "_view_module": "@jupyter-widgets/base",
            "_model_module_version": "1.5.0",
            "_view_count": null,
            "_view_module_version": "1.2.0",
            "_model_module": "@jupyter-widgets/controls"
          }
        },
        "66354c2774e24028a6dbea051e29f6e9": {
          "model_module": "@jupyter-widgets/base",
          "model_name": "LayoutModel",
          "state": {
            "_view_name": "LayoutView",
            "grid_template_rows": null,
            "right": null,
            "justify_content": null,
            "_view_module": "@jupyter-widgets/base",
            "overflow": null,
            "_model_module_version": "1.2.0",
            "_view_count": null,
            "flex_flow": null,
            "width": null,
            "min_width": null,
            "border": null,
            "align_items": null,
            "bottom": null,
            "_model_module": "@jupyter-widgets/base",
            "top": null,
            "grid_column": null,
            "overflow_y": null,
            "overflow_x": null,
            "grid_auto_flow": null,
            "grid_area": null,
            "grid_template_columns": null,
            "flex": null,
            "_model_name": "LayoutModel",
            "justify_items": null,
            "grid_row": null,
            "max_height": null,
            "align_content": null,
            "visibility": null,
            "align_self": null,
            "height": null,
            "min_height": null,
            "padding": null,
            "grid_auto_rows": null,
            "grid_gap": null,
            "max_width": null,
            "order": null,
            "_view_module_version": "1.2.0",
            "grid_template_areas": null,
            "object_position": null,
            "object_fit": null,
            "grid_auto_columns": null,
            "margin": null,
            "display": null,
            "left": null
          }
        },
        "3902498c673342c8adcdb8f0a8491df1": {
          "model_module": "@jupyter-widgets/controls",
          "model_name": "HBoxModel",
          "state": {
            "_view_name": "HBoxView",
            "_dom_classes": [],
            "_model_name": "HBoxModel",
            "_view_module": "@jupyter-widgets/controls",
            "_model_module_version": "1.5.0",
            "_view_count": null,
            "_view_module_version": "1.5.0",
            "box_style": "",
            "layout": "IPY_MODEL_d14c929bc10a4e67bd211b0a93c675c5",
            "_model_module": "@jupyter-widgets/controls",
            "children": [
              "IPY_MODEL_b1ed1a0d107348b88f9fb4cf70a1f998",
              "IPY_MODEL_3d4629ac64ca468789051545bf407f1d"
            ]
          }
        },
        "d14c929bc10a4e67bd211b0a93c675c5": {
          "model_module": "@jupyter-widgets/base",
          "model_name": "LayoutModel",
          "state": {
            "_view_name": "LayoutView",
            "grid_template_rows": null,
            "right": null,
            "justify_content": null,
            "_view_module": "@jupyter-widgets/base",
            "overflow": null,
            "_model_module_version": "1.2.0",
            "_view_count": null,
            "flex_flow": null,
            "width": null,
            "min_width": null,
            "border": null,
            "align_items": null,
            "bottom": null,
            "_model_module": "@jupyter-widgets/base",
            "top": null,
            "grid_column": null,
            "overflow_y": null,
            "overflow_x": null,
            "grid_auto_flow": null,
            "grid_area": null,
            "grid_template_columns": null,
            "flex": null,
            "_model_name": "LayoutModel",
            "justify_items": null,
            "grid_row": null,
            "max_height": null,
            "align_content": null,
            "visibility": null,
            "align_self": null,
            "height": null,
            "min_height": null,
            "padding": null,
            "grid_auto_rows": null,
            "grid_gap": null,
            "max_width": null,
            "order": null,
            "_view_module_version": "1.2.0",
            "grid_template_areas": null,
            "object_position": null,
            "object_fit": null,
            "grid_auto_columns": null,
            "margin": null,
            "display": null,
            "left": null
          }
        },
        "b1ed1a0d107348b88f9fb4cf70a1f998": {
          "model_module": "@jupyter-widgets/controls",
          "model_name": "FloatProgressModel",
          "state": {
            "_view_name": "ProgressView",
            "style": "IPY_MODEL_4bd41baf0529469384099faf52e0e3d5",
            "_dom_classes": [],
            "description": "",
            "_model_name": "FloatProgressModel",
            "bar_style": "info",
            "max": 1,
            "_view_module": "@jupyter-widgets/controls",
            "_model_module_version": "1.5.0",
            "value": 1,
            "_view_count": null,
            "_view_module_version": "1.5.0",
            "orientation": "horizontal",
            "min": 0,
            "description_tooltip": null,
            "_model_module": "@jupyter-widgets/controls",
            "layout": "IPY_MODEL_fdfc39dfca514e3eae99af62dbcaad0b"
          }
        },
        "3d4629ac64ca468789051545bf407f1d": {
          "model_module": "@jupyter-widgets/controls",
          "model_name": "HTMLModel",
          "state": {
            "_view_name": "HTMLView",
            "style": "IPY_MODEL_e2f602ae739f45b3ae9da09c4a170f7c",
            "_dom_classes": [],
            "description": "",
            "_model_name": "HTMLModel",
            "placeholder": "​",
            "_view_module": "@jupyter-widgets/controls",
            "_model_module_version": "1.5.0",
            "value": " 10000/0 [00:06&lt;00:00, 1538.07 examples/s]",
            "_view_count": null,
            "_view_module_version": "1.5.0",
            "description_tooltip": null,
            "_model_module": "@jupyter-widgets/controls",
            "layout": "IPY_MODEL_464f72389e29432396e4295e2a16662f"
          }
        },
        "4bd41baf0529469384099faf52e0e3d5": {
          "model_module": "@jupyter-widgets/controls",
          "model_name": "ProgressStyleModel",
          "state": {
            "_view_name": "StyleView",
            "_model_name": "ProgressStyleModel",
            "description_width": "initial",
            "_view_module": "@jupyter-widgets/base",
            "_model_module_version": "1.5.0",
            "_view_count": null,
            "_view_module_version": "1.2.0",
            "bar_color": null,
            "_model_module": "@jupyter-widgets/controls"
          }
        },
        "fdfc39dfca514e3eae99af62dbcaad0b": {
          "model_module": "@jupyter-widgets/base",
          "model_name": "LayoutModel",
          "state": {
            "_view_name": "LayoutView",
            "grid_template_rows": null,
            "right": null,
            "justify_content": null,
            "_view_module": "@jupyter-widgets/base",
            "overflow": null,
            "_model_module_version": "1.2.0",
            "_view_count": null,
            "flex_flow": null,
            "width": null,
            "min_width": null,
            "border": null,
            "align_items": null,
            "bottom": null,
            "_model_module": "@jupyter-widgets/base",
            "top": null,
            "grid_column": null,
            "overflow_y": null,
            "overflow_x": null,
            "grid_auto_flow": null,
            "grid_area": null,
            "grid_template_columns": null,
            "flex": null,
            "_model_name": "LayoutModel",
            "justify_items": null,
            "grid_row": null,
            "max_height": null,
            "align_content": null,
            "visibility": null,
            "align_self": null,
            "height": null,
            "min_height": null,
            "padding": null,
            "grid_auto_rows": null,
            "grid_gap": null,
            "max_width": null,
            "order": null,
            "_view_module_version": "1.2.0",
            "grid_template_areas": null,
            "object_position": null,
            "object_fit": null,
            "grid_auto_columns": null,
            "margin": null,
            "display": null,
            "left": null
          }
        },
        "e2f602ae739f45b3ae9da09c4a170f7c": {
          "model_module": "@jupyter-widgets/controls",
          "model_name": "DescriptionStyleModel",
          "state": {
            "_view_name": "StyleView",
            "_model_name": "DescriptionStyleModel",
            "description_width": "",
            "_view_module": "@jupyter-widgets/base",
            "_model_module_version": "1.5.0",
            "_view_count": null,
            "_view_module_version": "1.2.0",
            "_model_module": "@jupyter-widgets/controls"
          }
        },
        "464f72389e29432396e4295e2a16662f": {
          "model_module": "@jupyter-widgets/base",
          "model_name": "LayoutModel",
          "state": {
            "_view_name": "LayoutView",
            "grid_template_rows": null,
            "right": null,
            "justify_content": null,
            "_view_module": "@jupyter-widgets/base",
            "overflow": null,
            "_model_module_version": "1.2.0",
            "_view_count": null,
            "flex_flow": null,
            "width": null,
            "min_width": null,
            "border": null,
            "align_items": null,
            "bottom": null,
            "_model_module": "@jupyter-widgets/base",
            "top": null,
            "grid_column": null,
            "overflow_y": null,
            "overflow_x": null,
            "grid_auto_flow": null,
            "grid_area": null,
            "grid_template_columns": null,
            "flex": null,
            "_model_name": "LayoutModel",
            "justify_items": null,
            "grid_row": null,
            "max_height": null,
            "align_content": null,
            "visibility": null,
            "align_self": null,
            "height": null,
            "min_height": null,
            "padding": null,
            "grid_auto_rows": null,
            "grid_gap": null,
            "max_width": null,
            "order": null,
            "_view_module_version": "1.2.0",
            "grid_template_areas": null,
            "object_position": null,
            "object_fit": null,
            "grid_auto_columns": null,
            "margin": null,
            "display": null,
            "left": null
          }
        },
        "1b3742616a89497c81f6f3c327946870": {
          "model_module": "@jupyter-widgets/controls",
          "model_name": "HBoxModel",
          "state": {
            "_view_name": "HBoxView",
            "_dom_classes": [],
            "_model_name": "HBoxModel",
            "_view_module": "@jupyter-widgets/controls",
            "_model_module_version": "1.5.0",
            "_view_count": null,
            "_view_module_version": "1.5.0",
            "box_style": "",
            "layout": "IPY_MODEL_6cd8d77cb4ed473db126e6946212b2ec",
            "_model_module": "@jupyter-widgets/controls",
            "children": [
              "IPY_MODEL_ae756e7609e843918067c1526246a95a",
              "IPY_MODEL_f910d44ec1c34bff9c51a477e25c3525"
            ]
          }
        },
        "6cd8d77cb4ed473db126e6946212b2ec": {
          "model_module": "@jupyter-widgets/base",
          "model_name": "LayoutModel",
          "state": {
            "_view_name": "LayoutView",
            "grid_template_rows": null,
            "right": null,
            "justify_content": null,
            "_view_module": "@jupyter-widgets/base",
            "overflow": null,
            "_model_module_version": "1.2.0",
            "_view_count": null,
            "flex_flow": null,
            "width": null,
            "min_width": null,
            "border": null,
            "align_items": null,
            "bottom": null,
            "_model_module": "@jupyter-widgets/base",
            "top": null,
            "grid_column": null,
            "overflow_y": null,
            "overflow_x": null,
            "grid_auto_flow": null,
            "grid_area": null,
            "grid_template_columns": null,
            "flex": null,
            "_model_name": "LayoutModel",
            "justify_items": null,
            "grid_row": null,
            "max_height": null,
            "align_content": null,
            "visibility": null,
            "align_self": null,
            "height": null,
            "min_height": null,
            "padding": null,
            "grid_auto_rows": null,
            "grid_gap": null,
            "max_width": null,
            "order": null,
            "_view_module_version": "1.2.0",
            "grid_template_areas": null,
            "object_position": null,
            "object_fit": null,
            "grid_auto_columns": null,
            "margin": null,
            "display": null,
            "left": null
          }
        },
        "ae756e7609e843918067c1526246a95a": {
          "model_module": "@jupyter-widgets/controls",
          "model_name": "FloatProgressModel",
          "state": {
            "_view_name": "ProgressView",
            "style": "IPY_MODEL_406af43ef1244ad284be2c61c82e3aa5",
            "_dom_classes": [],
            "description": " 86%",
            "_model_name": "FloatProgressModel",
            "bar_style": "danger",
            "max": 10000,
            "_view_module": "@jupyter-widgets/controls",
            "_model_module_version": "1.5.0",
            "value": 8589,
            "_view_count": null,
            "_view_module_version": "1.5.0",
            "orientation": "horizontal",
            "min": 0,
            "description_tooltip": null,
            "_model_module": "@jupyter-widgets/controls",
            "layout": "IPY_MODEL_774b0b4c21be498488420b03079ed20d"
          }
        },
        "f910d44ec1c34bff9c51a477e25c3525": {
          "model_module": "@jupyter-widgets/controls",
          "model_name": "HTMLModel",
          "state": {
            "_view_name": "HTMLView",
            "style": "IPY_MODEL_435542a6b7fd44af8d361038a5e8d3ec",
            "_dom_classes": [],
            "description": "",
            "_model_name": "HTMLModel",
            "placeholder": "​",
            "_view_module": "@jupyter-widgets/controls",
            "_model_module_version": "1.5.0",
            "value": " 8589/10000 [00:00&lt;00:00, 85888.24 examples/s]",
            "_view_count": null,
            "_view_module_version": "1.5.0",
            "description_tooltip": null,
            "_model_module": "@jupyter-widgets/controls",
            "layout": "IPY_MODEL_278e6223d94642ada6bce651e33bb7ba"
          }
        },
        "406af43ef1244ad284be2c61c82e3aa5": {
          "model_module": "@jupyter-widgets/controls",
          "model_name": "ProgressStyleModel",
          "state": {
            "_view_name": "StyleView",
            "_model_name": "ProgressStyleModel",
            "description_width": "initial",
            "_view_module": "@jupyter-widgets/base",
            "_model_module_version": "1.5.0",
            "_view_count": null,
            "_view_module_version": "1.2.0",
            "bar_color": null,
            "_model_module": "@jupyter-widgets/controls"
          }
        },
        "774b0b4c21be498488420b03079ed20d": {
          "model_module": "@jupyter-widgets/base",
          "model_name": "LayoutModel",
          "state": {
            "_view_name": "LayoutView",
            "grid_template_rows": null,
            "right": null,
            "justify_content": null,
            "_view_module": "@jupyter-widgets/base",
            "overflow": null,
            "_model_module_version": "1.2.0",
            "_view_count": null,
            "flex_flow": null,
            "width": null,
            "min_width": null,
            "border": null,
            "align_items": null,
            "bottom": null,
            "_model_module": "@jupyter-widgets/base",
            "top": null,
            "grid_column": null,
            "overflow_y": null,
            "overflow_x": null,
            "grid_auto_flow": null,
            "grid_area": null,
            "grid_template_columns": null,
            "flex": null,
            "_model_name": "LayoutModel",
            "justify_items": null,
            "grid_row": null,
            "max_height": null,
            "align_content": null,
            "visibility": null,
            "align_self": null,
            "height": null,
            "min_height": null,
            "padding": null,
            "grid_auto_rows": null,
            "grid_gap": null,
            "max_width": null,
            "order": null,
            "_view_module_version": "1.2.0",
            "grid_template_areas": null,
            "object_position": null,
            "object_fit": null,
            "grid_auto_columns": null,
            "margin": null,
            "display": null,
            "left": null
          }
        },
        "435542a6b7fd44af8d361038a5e8d3ec": {
          "model_module": "@jupyter-widgets/controls",
          "model_name": "DescriptionStyleModel",
          "state": {
            "_view_name": "StyleView",
            "_model_name": "DescriptionStyleModel",
            "description_width": "",
            "_view_module": "@jupyter-widgets/base",
            "_model_module_version": "1.5.0",
            "_view_count": null,
            "_view_module_version": "1.2.0",
            "_model_module": "@jupyter-widgets/controls"
          }
        },
        "278e6223d94642ada6bce651e33bb7ba": {
          "model_module": "@jupyter-widgets/base",
          "model_name": "LayoutModel",
          "state": {
            "_view_name": "LayoutView",
            "grid_template_rows": null,
            "right": null,
            "justify_content": null,
            "_view_module": "@jupyter-widgets/base",
            "overflow": null,
            "_model_module_version": "1.2.0",
            "_view_count": null,
            "flex_flow": null,
            "width": null,
            "min_width": null,
            "border": null,
            "align_items": null,
            "bottom": null,
            "_model_module": "@jupyter-widgets/base",
            "top": null,
            "grid_column": null,
            "overflow_y": null,
            "overflow_x": null,
            "grid_auto_flow": null,
            "grid_area": null,
            "grid_template_columns": null,
            "flex": null,
            "_model_name": "LayoutModel",
            "justify_items": null,
            "grid_row": null,
            "max_height": null,
            "align_content": null,
            "visibility": null,
            "align_self": null,
            "height": null,
            "min_height": null,
            "padding": null,
            "grid_auto_rows": null,
            "grid_gap": null,
            "max_width": null,
            "order": null,
            "_view_module_version": "1.2.0",
            "grid_template_areas": null,
            "object_position": null,
            "object_fit": null,
            "grid_auto_columns": null,
            "margin": null,
            "display": null,
            "left": null
          }
        }
      }
    }
  },
  "cells": [
    {
      "cell_type": "markdown",
      "metadata": {
        "id": "view-in-github"
      },
      "source": [
        "<a href=\"https://colab.research.google.com/github/OliviaXu312/ANLY590/blob/master/Assignment3.ipynb\" target=\"_parent\"><img src=\"https://colab.research.google.com/assets/colab-badge.svg\" alt=\"Open In Colab\"/></a>"
      ]
    },
    {
      "cell_type": "code",
      "metadata": {
        "id": "_apQkYIO--an"
      },
      "source": [
        "import os\n",
        "import numpy as np\n",
        "import pandas as pd\n",
        "import matplotlib.pyplot as plt\n",
        "import tensorflow as tf\n",
        "import tensorflow.keras as tfk\n",
        "import tensorflow_datasets as tfds\n",
        "from tensorflow.data.experimental import sample_from_datasets\n",
        "from keras.utils import to_categorical\n",
        "from keras.datasets import cifar10\n",
        "\n",
        "tfkl = tfk.layers"
      ],
      "execution_count": 21,
      "outputs": []
    },
    {
      "cell_type": "markdown",
      "metadata": {
        "id": "0cg5OkxiC6SE"
      },
      "source": [
        "# Q1 Autoencoder"
      ]
    },
    {
      "cell_type": "markdown",
      "metadata": {
        "id": "-FCfC2wJ_HE-"
      },
      "source": [
        "## Load Data"
      ]
    },
    {
      "cell_type": "code",
      "metadata": {
        "id": "TOLd2A87_Cw5",
        "colab": {
          "base_uri": "https://localhost:8080/",
          "height": 345,
          "referenced_widgets": [
            "1705eaac40eb4aa4869252f505b2de70",
            "b38af630454a468d8d94056e274524a4",
            "8aa6edcea54344fd97562524537422b7",
            "6fe213a4c3ba45de9bb4e43068fd0f8c",
            "9c0681dbaf144365bb75bbd0f11dca9d",
            "0c4d5e8db0c8472f8897d9b23fab36bd",
            "708c4b44c32c44e6894f808225cbf0cc",
            "c14264ab94d44b669d4c313a1789884e",
            "478152fb4d8646cc98fb1b858eaed819",
            "b2299902c90e4b61850dd095ef41b609",
            "353cf089c2a64f01978f3751c8ab7fbb",
            "d31c2f4f9f414e84ab004b4f0736653d",
            "54527bf0e72c4045aeb56ea4fd367d32",
            "d2012b599a91474283b403c119fa731f",
            "640ab8c3feba47e9bbfc20be769f340a",
            "a1923209b13b4b4da9d36faafa1bdcc3",
            "483a552f63a449df8c61babc78ff904f",
            "eac9a30a14804ea4a2fca026610962ec",
            "e58d0b2b5fa14d23bf344619d0c26b6c",
            "f90d83fb02dc4d059903bfb6cecd192d",
            "6f125c0e19e54a76a60ca7e0777089aa",
            "890e399dfb60470ab49e7b6c7493068e",
            "310698c85ded4930ae94676a86daa276",
            "37f020dbcc0b445bb98d40b4d68a4d82",
            "06d1eabc99de4f2db312c93b51b4bab2",
            "3e5989ddfba542319fd3526e8c800c3f",
            "024a8a31669f448cb70d655f230e8d45",
            "a3c192bba69842bd9e094d0598437eae",
            "6902cf6b860b4734bc0872649db7c3ca",
            "9f05ae6d021a4c46a137f6aa9efd6450",
            "1d3127772ca849d9aec24635fd0fdbb1",
            "7739adde354e493f8c402ef66f1b6559",
            "a3dd49b1c1754ff2bbf614695303a092",
            "6f0800ee43304679bff9dd942c5a987e",
            "870d5d8b76a245b1837bf6d125bfc544",
            "9e922215c91243a1a7e70733d0635a2f",
            "d00c36c1864a4bb484a88334a1090795",
            "e6d82b104bf44b978a03fe0221fd7eb8",
            "50d43f55f3ad4b0dbcbf478cba3e8432",
            "66354c2774e24028a6dbea051e29f6e9",
            "3902498c673342c8adcdb8f0a8491df1",
            "d14c929bc10a4e67bd211b0a93c675c5",
            "b1ed1a0d107348b88f9fb4cf70a1f998",
            "3d4629ac64ca468789051545bf407f1d",
            "4bd41baf0529469384099faf52e0e3d5",
            "fdfc39dfca514e3eae99af62dbcaad0b",
            "e2f602ae739f45b3ae9da09c4a170f7c",
            "464f72389e29432396e4295e2a16662f",
            "1b3742616a89497c81f6f3c327946870",
            "6cd8d77cb4ed473db126e6946212b2ec",
            "ae756e7609e843918067c1526246a95a",
            "f910d44ec1c34bff9c51a477e25c3525",
            "406af43ef1244ad284be2c61c82e3aa5",
            "774b0b4c21be498488420b03079ed20d",
            "435542a6b7fd44af8d361038a5e8d3ec",
            "278e6223d94642ada6bce651e33bb7ba"
          ]
        },
        "outputId": "a88228f1-2870-4580-b7b0-c940bd331ae6"
      },
      "source": [
        "data, info = tfds.load('cifar10', with_info=True)"
      ],
      "execution_count": 2,
      "outputs": [
        {
          "output_type": "stream",
          "text": [
            "\u001b[1mDownloading and preparing dataset cifar10/3.0.2 (download: 162.17 MiB, generated: 132.40 MiB, total: 294.58 MiB) to /root/tensorflow_datasets/cifar10/3.0.2...\u001b[0m\n"
          ],
          "name": "stdout"
        },
        {
          "output_type": "display_data",
          "data": {
            "application/vnd.jupyter.widget-view+json": {
              "model_id": "1705eaac40eb4aa4869252f505b2de70",
              "version_minor": 0,
              "version_major": 2
            },
            "text/plain": [
              "HBox(children=(FloatProgress(value=1.0, bar_style='info', description='Dl Completed...', max=1.0, style=Progre…"
            ]
          },
          "metadata": {
            "tags": []
          }
        },
        {
          "output_type": "display_data",
          "data": {
            "application/vnd.jupyter.widget-view+json": {
              "model_id": "478152fb4d8646cc98fb1b858eaed819",
              "version_minor": 0,
              "version_major": 2
            },
            "text/plain": [
              "HBox(children=(FloatProgress(value=1.0, bar_style='info', description='Dl Size...', max=1.0, style=ProgressSty…"
            ]
          },
          "metadata": {
            "tags": []
          }
        },
        {
          "output_type": "display_data",
          "data": {
            "application/vnd.jupyter.widget-view+json": {
              "model_id": "483a552f63a449df8c61babc78ff904f",
              "version_minor": 0,
              "version_major": 2
            },
            "text/plain": [
              "HBox(children=(FloatProgress(value=1.0, bar_style='info', description='Extraction completed...', max=1.0, styl…"
            ]
          },
          "metadata": {
            "tags": []
          }
        },
        {
          "output_type": "stream",
          "text": [
            "\n",
            "\n",
            "\n",
            "\n",
            "\n",
            "\n"
          ],
          "name": "stdout"
        },
        {
          "output_type": "display_data",
          "data": {
            "application/vnd.jupyter.widget-view+json": {
              "model_id": "06d1eabc99de4f2db312c93b51b4bab2",
              "version_minor": 0,
              "version_major": 2
            },
            "text/plain": [
              "HBox(children=(FloatProgress(value=1.0, bar_style='info', max=1.0), HTML(value='')))"
            ]
          },
          "metadata": {
            "tags": []
          }
        },
        {
          "output_type": "stream",
          "text": [
            "\rShuffling and writing examples to /root/tensorflow_datasets/cifar10/3.0.2.incompleteVPCMEJ/cifar10-train.tfrecord\n"
          ],
          "name": "stdout"
        },
        {
          "output_type": "display_data",
          "data": {
            "application/vnd.jupyter.widget-view+json": {
              "model_id": "a3dd49b1c1754ff2bbf614695303a092",
              "version_minor": 0,
              "version_major": 2
            },
            "text/plain": [
              "HBox(children=(FloatProgress(value=0.0, max=50000.0), HTML(value='')))"
            ]
          },
          "metadata": {
            "tags": []
          }
        },
        {
          "output_type": "stream",
          "text": [
            "\r"
          ],
          "name": "stdout"
        },
        {
          "output_type": "display_data",
          "data": {
            "application/vnd.jupyter.widget-view+json": {
              "model_id": "3902498c673342c8adcdb8f0a8491df1",
              "version_minor": 0,
              "version_major": 2
            },
            "text/plain": [
              "HBox(children=(FloatProgress(value=1.0, bar_style='info', max=1.0), HTML(value='')))"
            ]
          },
          "metadata": {
            "tags": []
          }
        },
        {
          "output_type": "stream",
          "text": [
            "\rShuffling and writing examples to /root/tensorflow_datasets/cifar10/3.0.2.incompleteVPCMEJ/cifar10-test.tfrecord\n"
          ],
          "name": "stdout"
        },
        {
          "output_type": "display_data",
          "data": {
            "application/vnd.jupyter.widget-view+json": {
              "model_id": "1b3742616a89497c81f6f3c327946870",
              "version_minor": 0,
              "version_major": 2
            },
            "text/plain": [
              "HBox(children=(FloatProgress(value=0.0, max=10000.0), HTML(value='')))"
            ]
          },
          "metadata": {
            "tags": []
          }
        },
        {
          "output_type": "stream",
          "text": [
            "\u001b[1mDataset cifar10 downloaded and prepared to /root/tensorflow_datasets/cifar10/3.0.2. Subsequent calls will reuse this data.\u001b[0m\n",
            "\r"
          ],
          "name": "stdout"
        }
      ]
    },
    {
      "cell_type": "code",
      "metadata": {
        "id": "TwZYN71HA9Rs"
      },
      "source": [
        "preprocess = lambda d: (tf.cast(d['image'], tf.float32)/255., d['label'])\n",
        "\n",
        "ds_train = data['train'].map(preprocess).map(lambda x, y: (x, x)).cache().batch(32).repeat().prefetch(5)\n",
        "ds_test = data[\"test\"].map(preprocess)"
      ],
      "execution_count": 3,
      "outputs": []
    },
    {
      "cell_type": "code",
      "metadata": {
        "id": "oXAlvuZqAT9i"
      },
      "source": [
        "#test_labels = tf.one_hot(test_labels.astype(np.int32), depth = 10)"
      ],
      "execution_count": 4,
      "outputs": []
    },
    {
      "cell_type": "code",
      "metadata": {
        "colab": {
          "base_uri": "https://localhost:8080/",
          "height": 283
        },
        "id": "2thHBY0tBlWi",
        "outputId": "00cf0610-3ae9-4b31-cd9b-b9e2dfcdb408"
      },
      "source": [
        "x, y = next(iter(ds_train))\n",
        "plt.imshow(x[10,:,:,:])"
      ],
      "execution_count": 6,
      "outputs": [
        {
          "output_type": "execute_result",
          "data": {
            "text/plain": [
              "<matplotlib.image.AxesImage at 0x7f915271cdd8>"
            ]
          },
          "metadata": {
            "tags": []
          },
          "execution_count": 6
        },
        {
          "output_type": "display_data",
          "data": {
            "image/png": "[encoded data removed]",
            "text/plain": [
              "<Figure size 432x288 with 1 Axes>"
            ]
          },
          "metadata": {
            "tags": [],
            "needs_background": "light"
          }
        }
      ]
    },
    {
      "cell_type": "markdown",
      "metadata": {
        "id": "b-Y7tpQ4CksQ"
      },
      "source": [
        "## Convolutional Autoencoder Model"
      ]
    },
    {
      "cell_type": "code",
      "metadata": {
        "id": "IDdmuGbAMe7c",
        "colab": {
          "base_uri": "https://localhost:8080/"
        },
        "outputId": "96f531a8-9698-4968-8803-fe6c7446937d"
      },
      "source": [
        "img_shape = info.features['image'].shape\n",
        "img_shape"
      ],
      "execution_count": 7,
      "outputs": [
        {
          "output_type": "execute_result",
          "data": {
            "text/plain": [
              "(32, 32, 3)"
            ]
          },
          "metadata": {
            "tags": []
          },
          "execution_count": 7
        }
      ]
    },
    {
      "cell_type": "code",
      "metadata": {
        "id": "7CHUT9yPCjpT",
        "colab": {
          "base_uri": "https://localhost:8080/"
        },
        "outputId": "ecc79991-27a7-4954-c086-74373d355667"
      },
      "source": [
        "encoder = tfk.Sequential([\n",
        "              tfkl.InputLayer(img_shape),\n",
        "              tfkl.Conv2D(filters = 64, kernel_size=3, strides=1, \n",
        "                          padding=\"same\", activation='relu'),\n",
        "              tfkl.MaxPool2D(pool_size = 2),\n",
        "              tfkl.Dropout(0.2),\n",
        "\n",
        "              tfkl.Conv2D(filters = 32, kernel_size=3, strides=1,\n",
        "                      padding=\"same\", activation='relu'),\n",
        "              tfkl.MaxPool2D(pool_size = 2),\n",
        "              tfkl.Dropout(0.2),\n",
        "\n",
        "              tfkl.Conv2D(filters = 16, kernel_size=3, strides=1, \n",
        "                      padding=\"same\", activation='relu'),\n",
        "              tfkl.MaxPool2D(pool_size = 2)            \n",
        "])\n",
        "encoder.summary()"
      ],
      "execution_count": 9,
      "outputs": [
        {
          "output_type": "stream",
          "text": [
            "Model: \"sequential_1\"\n",
            "_________________________________________________________________\n",
            "Layer (type)                 Output Shape              Param #   \n",
            "=================================================================\n",
            "conv2d_3 (Conv2D)            (None, 32, 32, 64)        1792      \n",
            "_________________________________________________________________\n",
            "max_pooling2d_3 (MaxPooling2 (None, 16, 16, 64)        0         \n",
            "_________________________________________________________________\n",
            "dropout_2 (Dropout)          (None, 16, 16, 64)        0         \n",
            "_________________________________________________________________\n",
            "conv2d_4 (Conv2D)            (None, 16, 16, 32)        18464     \n",
            "_________________________________________________________________\n",
            "max_pooling2d_4 (MaxPooling2 (None, 8, 8, 32)          0         \n",
            "_________________________________________________________________\n",
            "dropout_3 (Dropout)          (None, 8, 8, 32)          0         \n",
            "_________________________________________________________________\n",
            "conv2d_5 (Conv2D)            (None, 8, 8, 16)          4624      \n",
            "_________________________________________________________________\n",
            "max_pooling2d_5 (MaxPooling2 (None, 4, 4, 16)          0         \n",
            "=================================================================\n",
            "Total params: 24,880\n",
            "Trainable params: 24,880\n",
            "Non-trainable params: 0\n",
            "_________________________________________________________________\n"
          ],
          "name": "stdout"
        }
      ]
    },
    {
      "cell_type": "code",
      "metadata": {
        "id": "x1M9-YkRAQ2B",
        "colab": {
          "base_uri": "https://localhost:8080/"
        },
        "outputId": "7d8499ac-49f4-4419-97cb-90fd6df3290f"
      },
      "source": [
        "decoder = tfk.Sequential([\n",
        "              tfkl.InputLayer((4, 4, 16)),\n",
        "              tfkl.Conv2D(filters = 16, kernel_size=3, strides=1, \n",
        "                      padding=\"same\", activation='relu'),\n",
        "              tfkl.UpSampling2D(size = 2),\n",
        "\n",
        "              tfkl.Conv2D(filters = 32, kernel_size=3, strides=1,\n",
        "                      padding=\"same\", activation='relu'),\n",
        "              tfkl.UpSampling2D(size = 2),\n",
        "\n",
        "              tfkl.Conv2D(filters = 64, kernel_size=3, strides=1,\n",
        "                      padding=\"same\", activation='relu'),\n",
        "              tfkl.UpSampling2D(size = 2),\n",
        "\n",
        "              tfkl.Conv2D(filters = 3, kernel_size=3,\n",
        "                           padding=\"same\", activation='sigmoid')\n",
        "              ])\n",
        "\n",
        "decoder.summary()"
      ],
      "execution_count": 10,
      "outputs": [
        {
          "output_type": "stream",
          "text": [
            "Model: \"sequential_2\"\n",
            "_________________________________________________________________\n",
            "Layer (type)                 Output Shape              Param #   \n",
            "=================================================================\n",
            "conv2d_6 (Conv2D)            (None, 4, 4, 16)          2320      \n",
            "_________________________________________________________________\n",
            "up_sampling2d (UpSampling2D) (None, 8, 8, 16)          0         \n",
            "_________________________________________________________________\n",
            "conv2d_7 (Conv2D)            (None, 8, 8, 32)          4640      \n",
            "_________________________________________________________________\n",
            "up_sampling2d_1 (UpSampling2 (None, 16, 16, 32)        0         \n",
            "_________________________________________________________________\n",
            "conv2d_8 (Conv2D)            (None, 16, 16, 64)        18496     \n",
            "_________________________________________________________________\n",
            "up_sampling2d_2 (UpSampling2 (None, 32, 32, 64)        0         \n",
            "_________________________________________________________________\n",
            "conv2d_9 (Conv2D)            (None, 32, 32, 3)         1731      \n",
            "=================================================================\n",
            "Total params: 27,187\n",
            "Trainable params: 27,187\n",
            "Non-trainable params: 0\n",
            "_________________________________________________________________\n"
          ],
          "name": "stdout"
        }
      ]
    },
    {
      "cell_type": "code",
      "metadata": {
        "id": "aJmYsvuLAvxG",
        "colab": {
          "base_uri": "https://localhost:8080/"
        },
        "outputId": "c33999ec-4fdc-4b45-d38b-8bea2fd4e4e4"
      },
      "source": [
        "x = tfkl.Input(img_shape)\n",
        "\n",
        "h = encoder(x)\n",
        "xhat = decoder(h)\n",
        "\n",
        "autoencoder = tfk.Model(inputs=x, outputs=xhat)\n",
        "autoencoder.summary()\n",
        "\n",
        "autoencoder.compile(\n",
        "    optimizer=tfk.optimizers.Adam(),\n",
        "    loss=tfk.losses.BinaryCrossentropy(),\n",
        ")\n",
        "\n",
        "results = autoencoder.fit(ds_train, steps_per_epoch=100, epochs=10)"
      ],
      "execution_count": 11,
      "outputs": [
        {
          "output_type": "stream",
          "text": [
            "Model: \"functional_1\"\n",
            "_________________________________________________________________\n",
            "Layer (type)                 Output Shape              Param #   \n",
            "=================================================================\n",
            "input_4 (InputLayer)         [(None, 32, 32, 3)]       0         \n",
            "_________________________________________________________________\n",
            "sequential_1 (Sequential)    (None, 4, 4, 16)          24880     \n",
            "_________________________________________________________________\n",
            "sequential_2 (Sequential)    (None, 32, 32, 3)         27187     \n",
            "=================================================================\n",
            "Total params: 52,067\n",
            "Trainable params: 52,067\n",
            "Non-trainable params: 0\n",
            "_________________________________________________________________\n",
            "Epoch 1/10\n",
            "100/100 [==============================] - 21s 209ms/step - loss: 0.6358\n",
            "Epoch 2/10\n",
            "100/100 [==============================] - 21s 209ms/step - loss: 0.5997\n",
            "Epoch 3/10\n",
            "100/100 [==============================] - 21s 212ms/step - loss: 0.5912\n",
            "Epoch 4/10\n",
            "100/100 [==============================] - 21s 209ms/step - loss: 0.5856\n",
            "Epoch 5/10\n",
            "100/100 [==============================] - 21s 211ms/step - loss: 0.5864\n",
            "Epoch 6/10\n",
            "100/100 [==============================] - 21s 210ms/step - loss: 0.5850\n",
            "Epoch 7/10\n",
            "100/100 [==============================] - 21s 214ms/step - loss: 0.5831\n",
            "Epoch 8/10\n",
            "100/100 [==============================] - 21s 213ms/step - loss: 0.5842\n",
            "Epoch 9/10\n",
            "100/100 [==============================] - 21s 211ms/step - loss: 0.5844\n",
            "Epoch 10/10\n",
            "100/100 [==============================] - 21s 210ms/step - loss: 0.5827\n"
          ],
          "name": "stdout"
        }
      ]
    },
    {
      "cell_type": "code",
      "metadata": {
        "id": "LP-kfPDZ_LEU",
        "colab": {
          "base_uri": "https://localhost:8080/",
          "height": 1000
        },
        "outputId": "5987776a-8dd1-4556-86cd-15585214eac3"
      },
      "source": [
        "imgs = next(iter(ds_train))[0]\n",
        "for i in range(10):\n",
        "    plt.subplot(1, 2, 1)\n",
        "    plt.imshow(imgs[i].numpy().squeeze(), cmap='bone')\n",
        "    plt.subplot(1, 2, 2, )\n",
        "    plt.imshow(autoencoder(imgs[i][tf.newaxis]).numpy().squeeze(), cmap='bone')\n",
        "    plt.show()"
      ],
      "execution_count": 12,
      "outputs": [
        {
          "output_type": "display_data",
          "data": {
            "image/png": "[encoded data removed]",
            "text/plain": [
              "<Figure size 432x288 with 2 Axes>"
            ]
          },
          "metadata": {
            "tags": [],
            "needs_background": "light"
          }
        },
        {
          "output_type": "display_data",
          "data": {
            "image/png": "[encoded data removed]",
            "text/plain": [
              "<Figure size 432x288 with 2 Axes>"
            ]
          },
          "metadata": {
            "tags": [],
            "needs_background": "light"
          }
        },
        {
          "output_type": "display_data",
          "data": {
            "image/png": "[encoded data removed]",
            "text/plain": [
              "<Figure size 432x288 with 2 Axes>"
            ]
          },
          "metadata": {
            "tags": [],
            "needs_background": "light"
          }
        },
        {
          "output_type": "display_data",
          "data": {
            "image/png": "[encoded data removed]",
            "text/plain": [
              "<Figure size 432x288 with 2 Axes>"
            ]
          },
          "metadata": {
            "tags": [],
            "needs_background": "light"
          }
        },
        {
          "output_type": "display_data",
          "data": {
            "image/png": "[encoded data removed]",
            "text/plain": [
              "<Figure size 432x288 with 2 Axes>"
            ]
          },
          "metadata": {
            "tags": [],
            "needs_background": "light"
          }
        },
        {
          "output_type": "display_data",
          "data": {
            "image/png": "[encoded data removed]",
            "text/plain": [
              "<Figure size 432x288 with 2 Axes>"
            ]
          },
          "metadata": {
            "tags": [],
            "needs_background": "light"
          }
        },
        {
          "output_type": "display_data",
          "data": {
            "image/png": "[encoded data removed]",
            "text/plain": [
              "<Figure size 432x288 with 2 Axes>"
            ]
          },
          "metadata": {
            "tags": [],
            "needs_background": "light"
          }
        },
        {
          "output_type": "display_data",
          "data": {
            "image/png": "[encoded data removed]",
            "text/plain": [
              "<Figure size 432x288 with 2 Axes>"
            ]
          },
          "metadata": {
            "tags": [],
            "needs_background": "light"
          }
        },
        {
          "output_type": "display_data",
          "data": {
            "image/png": "[encoded data removed]",
            "text/plain": [
              "<Figure size 432x288 with 2 Axes>"
            ]
          },
          "metadata": {
            "tags": [],
            "needs_background": "light"
          }
        },
        {
          "output_type": "display_data",
          "data": {
            "image/png": "[encoded data removed]",
            "text/plain": [
              "<Figure size 432x288 with 2 Axes>"
            ]
          },
          "metadata": {
            "tags": [],
            "needs_background": "light"
          }
        }
      ]
    },
    {
      "cell_type": "markdown",
      "metadata": {
        "id": "hwCllIvmcMDf"
      },
      "source": [
        "## Q2.1 Deep CNN"
      ]
    },
    {
      "cell_type": "code",
      "metadata": {
        "id": "uh-X97x5ILdj",
        "colab": {
          "base_uri": "https://localhost:8080/"
        },
        "outputId": "adeaf104-bd0c-43ac-8b5d-22add46556ca"
      },
      "source": [
        "model1 = tfk.Sequential()\n",
        "model1.add(tfkl.Conv2D(64,kernel_size=(3,3),strides=1,input_shape=(32,32,3),padding='valid',activation='relu'))\n",
        "model1.add(tfkl.MaxPool2D(pool_size=(2,2)))\n",
        "model1.add(tfkl.Dropout(0.3))\n",
        "model1.add(tfkl.Conv2D(32,kernel_size=(3,3),strides=1,padding='valid',activation='relu'))\n",
        "model1.add(tfkl.MaxPool2D(pool_size=(2,2)))\n",
        "model1.add(tfkl.Dropout(0.3))\n",
        "model1.add(tfkl.Flatten())\n",
        "model1.add(tfkl.Dense(64,activation='relu'))\n",
        "model1.add(tfkl.Dropout(0.5))\n",
        "model1.add(tfkl.Dense(10,activation='softmax'))\n",
        "model1.summary()"
      ],
      "execution_count": 15,
      "outputs": [
        {
          "output_type": "stream",
          "text": [
            "Model: \"sequential_4\"\n",
            "_________________________________________________________________\n",
            "Layer (type)                 Output Shape              Param #   \n",
            "=================================================================\n",
            "conv2d_13 (Conv2D)           (None, 30, 30, 64)        1792      \n",
            "_________________________________________________________________\n",
            "max_pooling2d_9 (MaxPooling2 (None, 15, 15, 64)        0         \n",
            "_________________________________________________________________\n",
            "dropout_7 (Dropout)          (None, 15, 15, 64)        0         \n",
            "_________________________________________________________________\n",
            "conv2d_14 (Conv2D)           (None, 13, 13, 32)        18464     \n",
            "_________________________________________________________________\n",
            "max_pooling2d_10 (MaxPooling (None, 6, 6, 32)          0         \n",
            "_________________________________________________________________\n",
            "dropout_8 (Dropout)          (None, 6, 6, 32)          0         \n",
            "_________________________________________________________________\n",
            "flatten (Flatten)            (None, 1152)              0         \n",
            "_________________________________________________________________\n",
            "dense_2 (Dense)              (None, 64)                73792     \n",
            "_________________________________________________________________\n",
            "dropout_9 (Dropout)          (None, 64)                0         \n",
            "_________________________________________________________________\n",
            "dense_3 (Dense)              (None, 10)                650       \n",
            "=================================================================\n",
            "Total params: 94,698\n",
            "Trainable params: 94,698\n",
            "Non-trainable params: 0\n",
            "_________________________________________________________________\n"
          ],
          "name": "stdout"
        }
      ]
    },
    {
      "cell_type": "code",
      "metadata": {
        "id": "HB31oGJGcJ4u",
        "colab": {
          "base_uri": "https://localhost:8080/"
        },
        "outputId": "1c3f6bb9-bd2f-49cc-fa2a-cc24ac1cd32b"
      },
      "source": [
        "model1.compile(optimizer=tfk.optimizers.RMSprop(),loss='categorical_crossentropy',metrics=['accuracy'])\n",
        "\n",
        "(x_train, y_train), (x_test, y_test) = cifar10.load_data()\n",
        "\n",
        "x_train = (x_train/255).astype('float32')\n",
        "x_test = (x_test/255).astype('float32')\n",
        "\n",
        "train_label = to_categorical(y_train)\n",
        "test_label = to_categorical(y_test)\n",
        "results2 = model1.fit(x_train,train_label,steps_per_epoch=100,epochs=20,batch_size=16,validation_data=(x_test,test_label))"
      ],
      "execution_count": 25,
      "outputs": [
        {
          "output_type": "stream",
          "text": [
            "Epoch 1/20\n",
            "100/100 [==============================] - 10s 105ms/step - loss: 2.3029 - accuracy: 0.1000 - val_loss: 2.3027 - val_accuracy: 0.1000\n",
            "Epoch 2/20\n",
            "100/100 [==============================] - 7s 74ms/step - loss: 2.3025 - accuracy: 0.1044 - val_loss: 2.3027 - val_accuracy: 0.1000\n",
            "Epoch 3/20\n",
            "100/100 [==============================] - 7s 75ms/step - loss: 2.3032 - accuracy: 0.1063 - val_loss: 2.3027 - val_accuracy: 0.1000\n",
            "Epoch 4/20\n",
            "100/100 [==============================] - 7s 74ms/step - loss: 2.3030 - accuracy: 0.0887 - val_loss: 2.3026 - val_accuracy: 0.1000\n",
            "Epoch 5/20\n",
            "100/100 [==============================] - 8s 79ms/step - loss: 2.3025 - accuracy: 0.1063 - val_loss: 2.3027 - val_accuracy: 0.1000\n",
            "Epoch 6/20\n",
            "100/100 [==============================] - 8s 77ms/step - loss: 2.3026 - accuracy: 0.1037 - val_loss: 2.3027 - val_accuracy: 0.1000\n",
            "Epoch 7/20\n",
            "100/100 [==============================] - 8s 79ms/step - loss: 2.3031 - accuracy: 0.1063 - val_loss: 2.3027 - val_accuracy: 0.1000\n",
            "Epoch 8/20\n",
            "100/100 [==============================] - 7s 74ms/step - loss: 2.3023 - accuracy: 0.0919 - val_loss: 2.3028 - val_accuracy: 0.1000\n",
            "Epoch 9/20\n",
            "100/100 [==============================] - 7s 75ms/step - loss: 2.3026 - accuracy: 0.1006 - val_loss: 2.3028 - val_accuracy: 0.1000\n",
            "Epoch 10/20\n",
            "100/100 [==============================] - 7s 74ms/step - loss: 2.3025 - accuracy: 0.1019 - val_loss: 2.3028 - val_accuracy: 0.1000\n",
            "Epoch 11/20\n",
            "100/100 [==============================] - 7s 74ms/step - loss: 2.3027 - accuracy: 0.0913 - val_loss: 2.3028 - val_accuracy: 0.1000\n",
            "Epoch 12/20\n",
            "100/100 [==============================] - 7s 75ms/step - loss: 2.3022 - accuracy: 0.1100 - val_loss: 2.3029 - val_accuracy: 0.1000\n",
            "Epoch 13/20\n",
            "100/100 [==============================] - 7s 75ms/step - loss: 2.3034 - accuracy: 0.0850 - val_loss: 2.3028 - val_accuracy: 0.1000\n",
            "Epoch 14/20\n",
            "100/100 [==============================] - 7s 74ms/step - loss: 2.3025 - accuracy: 0.1063 - val_loss: 2.3028 - val_accuracy: 0.1000\n",
            "Epoch 15/20\n",
            "100/100 [==============================] - 7s 74ms/step - loss: 2.3034 - accuracy: 0.1075 - val_loss: 2.3027 - val_accuracy: 0.1000\n",
            "Epoch 16/20\n",
            "100/100 [==============================] - 7s 75ms/step - loss: 2.3035 - accuracy: 0.0887 - val_loss: 2.3027 - val_accuracy: 0.1000\n",
            "Epoch 17/20\n",
            "100/100 [==============================] - 8s 75ms/step - loss: 2.3028 - accuracy: 0.0988 - val_loss: 2.3027 - val_accuracy: 0.1000\n",
            "Epoch 18/20\n",
            "100/100 [==============================] - 7s 75ms/step - loss: 2.3034 - accuracy: 0.0906 - val_loss: 2.3026 - val_accuracy: 0.1000\n",
            "Epoch 19/20\n",
            "100/100 [==============================] - 8s 76ms/step - loss: 2.3029 - accuracy: 0.0869 - val_loss: 2.3026 - val_accuracy: 0.1000\n",
            "Epoch 20/20\n",
            "100/100 [==============================] - 8s 75ms/step - loss: 2.3030 - accuracy: 0.0838 - val_loss: 2.3026 - val_accuracy: 0.1000\n"
          ],
          "name": "stdout"
        }
      ]
    },
    {
      "cell_type": "code",
      "metadata": {
        "colab": {
          "base_uri": "https://localhost:8080/",
          "height": 282
        },
        "id": "UFyL2o7Vk97i",
        "outputId": "b6ffec53-4ff5-435f-f494-0815883676ea"
      },
      "source": [
        "plt.plot(results2.history['loss'])\n",
        "plt.plot(results2.history['val_loss'])\n",
        "plt.legend(labels=['train','test'])"
      ],
      "execution_count": 26,
      "outputs": [
        {
          "output_type": "execute_result",
          "data": {
            "text/plain": [
              "<matplotlib.legend.Legend at 0x7f914eb50e10>"
            ]
          },
          "metadata": {
            "tags": []
          },
          "execution_count": 26
        },
        {
          "output_type": "display_data",
          "data": {
            "image/png": "[encoded data removed]",
            "text/plain": [
              "<Figure size 432x288 with 1 Axes>"
            ]
          },
          "metadata": {
            "tags": [],
            "needs_background": "light"
          }
        }
      ]
    },
    {
      "cell_type": "markdown",
      "metadata": {
        "id": "dUPbsgxddtkK"
      },
      "source": [
        "# Q2.2 Transfer Learning"
      ]
    },
    {
      "cell_type": "code",
      "metadata": {
        "id": "o5O2mVCbdyZY"
      },
      "source": [
        "from tensorflow.keras.applications import VGG16"
      ],
      "execution_count": 27,
      "outputs": []
    },
    {
      "cell_type": "code",
      "metadata": {
        "id": "TlrOX8m8dscH",
        "colab": {
          "base_uri": "https://localhost:8080/"
        },
        "outputId": "858e27f6-f1c0-4889-c5f4-40ddec461b3d"
      },
      "source": [
        "conv_base = VGG16(weights = 'imagenet', include_top = False, input_shape = (32,32,3))\n",
        "conv_base.summary()\n",
        "\n"
      ],
      "execution_count": 32,
      "outputs": [
        {
          "output_type": "stream",
          "text": [
            "Model: \"vgg16\"\n",
            "_________________________________________________________________\n",
            "Layer (type)                 Output Shape              Param #   \n",
            "=================================================================\n",
            "input_7 (InputLayer)         [(None, 32, 32, 3)]       0         \n",
            "_________________________________________________________________\n",
            "block1_conv1 (Conv2D)        (None, 32, 32, 64)        1792      \n",
            "_________________________________________________________________\n",
            "block1_conv2 (Conv2D)        (None, 32, 32, 64)        36928     \n",
            "_________________________________________________________________\n",
            "block1_pool (MaxPooling2D)   (None, 16, 16, 64)        0         \n",
            "_________________________________________________________________\n",
            "block2_conv1 (Conv2D)        (None, 16, 16, 128)       73856     \n",
            "_________________________________________________________________\n",
            "block2_conv2 (Conv2D)        (None, 16, 16, 128)       147584    \n",
            "_________________________________________________________________\n",
            "block2_pool (MaxPooling2D)   (None, 8, 8, 128)         0         \n",
            "_________________________________________________________________\n",
            "block3_conv1 (Conv2D)        (None, 8, 8, 256)         295168    \n",
            "_________________________________________________________________\n",
            "block3_conv2 (Conv2D)        (None, 8, 8, 256)         590080    \n",
            "_________________________________________________________________\n",
            "block3_conv3 (Conv2D)        (None, 8, 8, 256)         590080    \n",
            "_________________________________________________________________\n",
            "block3_pool (MaxPooling2D)   (None, 4, 4, 256)         0         \n",
            "_________________________________________________________________\n",
            "block4_conv1 (Conv2D)        (None, 4, 4, 512)         1180160   \n",
            "_________________________________________________________________\n",
            "block4_conv2 (Conv2D)        (None, 4, 4, 512)         2359808   \n",
            "_________________________________________________________________\n",
            "block4_conv3 (Conv2D)        (None, 4, 4, 512)         2359808   \n",
            "_________________________________________________________________\n",
            "block4_pool (MaxPooling2D)   (None, 2, 2, 512)         0         \n",
            "_________________________________________________________________\n",
            "block5_conv1 (Conv2D)        (None, 2, 2, 512)         2359808   \n",
            "_________________________________________________________________\n",
            "block5_conv2 (Conv2D)        (None, 2, 2, 512)         2359808   \n",
            "_________________________________________________________________\n",
            "block5_conv3 (Conv2D)        (None, 2, 2, 512)         2359808   \n",
            "_________________________________________________________________\n",
            "block5_pool (MaxPooling2D)   (None, 1, 1, 512)         0         \n",
            "=================================================================\n",
            "Total params: 14,714,688\n",
            "Trainable params: 14,714,688\n",
            "Non-trainable params: 0\n",
            "_________________________________________________________________\n"
          ],
          "name": "stdout"
        }
      ]
    },
    {
      "cell_type": "code",
      "metadata": {
        "colab": {
          "base_uri": "https://localhost:8080/"
        },
        "id": "7iwMA1q6R804",
        "outputId": "291e46e6-41a0-4aa7-8842-aac381ddfe26"
      },
      "source": [
        "modeltransfer = tfk.Sequential()\n",
        "modeltransfer.add(conv_base)\n",
        "modeltransfer.add(tfkl.Flatten())\n",
        "modeltransfer.add(tfkl.Dense(64, activation='relu'))\n",
        "modeltransfer.add(tfkl.Dropout(0.5))\n",
        "modeltransfer.add(tfkl.Dense(10, activation='softmax'))\n",
        "modeltransfer.summary()\n"
      ],
      "execution_count": 33,
      "outputs": [
        {
          "output_type": "stream",
          "text": [
            "Model: \"sequential_7\"\n",
            "_________________________________________________________________\n",
            "Layer (type)                 Output Shape              Param #   \n",
            "=================================================================\n",
            "vgg16 (Functional)           (None, 1, 1, 512)         14714688  \n",
            "_________________________________________________________________\n",
            "flatten_2 (Flatten)          (None, 512)               0         \n",
            "_________________________________________________________________\n",
            "dense_7 (Dense)              (None, 64)                32832     \n",
            "_________________________________________________________________\n",
            "dropout_11 (Dropout)         (None, 64)                0         \n",
            "_________________________________________________________________\n",
            "dense_8 (Dense)              (None, 10)                650       \n",
            "=================================================================\n",
            "Total params: 14,748,170\n",
            "Trainable params: 14,748,170\n",
            "Non-trainable params: 0\n",
            "_________________________________________________________________\n"
          ],
          "name": "stdout"
        }
      ]
    },
    {
      "cell_type": "code",
      "metadata": {
        "colab": {
          "base_uri": "https://localhost:8080/"
        },
        "id": "qhX8MYYHSb9C",
        "outputId": "7790579e-3b36-4867-998d-693c9cd40551"
      },
      "source": [
        "conv_base.trainable = False\n",
        "len(modeltransfer.trainable_weights)"
      ],
      "execution_count": 34,
      "outputs": [
        {
          "output_type": "execute_result",
          "data": {
            "text/plain": [
              "4"
            ]
          },
          "metadata": {
            "tags": []
          },
          "execution_count": 34
        }
      ]
    },
    {
      "cell_type": "code",
      "metadata": {
        "colab": {
          "base_uri": "https://localhost:8080/"
        },
        "id": "6pHntUJtSf5x",
        "outputId": "b57c98f4-cfbf-4e80-f474-a094ee6e7999"
      },
      "source": [
        "modeltransfer.compile(optimizer='rmsprop',\n",
        "              loss='categorical_crossentropy',\n",
        "              metrics=['accuracy'])\n",
        "\n",
        "results = modeltransfer.fit(x_train, train_label, epochs=5, batch_size=32,validation_data=(x_test,test_label))\n"
      ],
      "execution_count": 36,
      "outputs": [
        {
          "output_type": "stream",
          "text": [
            "Epoch 1/5\n",
            "1563/1563 [==============================] - 650s 416ms/step - loss: 1.6679 - accuracy: 0.4122 - val_loss: 1.3692 - val_accuracy: 0.5221\n",
            "Epoch 2/5\n",
            "1563/1563 [==============================] - 649s 415ms/step - loss: 1.4650 - accuracy: 0.4908 - val_loss: 1.3085 - val_accuracy: 0.5470\n",
            "Epoch 3/5\n",
            "1563/1563 [==============================] - 648s 414ms/step - loss: 1.4222 - accuracy: 0.5118 - val_loss: 1.2882 - val_accuracy: 0.5520\n",
            "Epoch 4/5\n",
            "1563/1563 [==============================] - 648s 414ms/step - loss: 1.4080 - accuracy: 0.5217 - val_loss: 1.3000 - val_accuracy: 0.5491\n",
            "Epoch 5/5\n",
            "1563/1563 [==============================] - 649s 415ms/step - loss: 1.4002 - accuracy: 0.5263 - val_loss: 1.2802 - val_accuracy: 0.5640\n"
          ],
          "name": "stdout"
        }
      ]
    },
    {
      "cell_type": "code",
      "metadata": {
        "colab": {
          "base_uri": "https://localhost:8080/",
          "height": 282
        },
        "id": "rfLSXwIhSpQj",
        "outputId": "6a3c2e64-62bd-4096-a49b-df622361373b"
      },
      "source": [
        "plt.plot(results.history['loss'])\n",
        "plt.plot(results.history['val_loss'])\n",
        "plt.legend(labels=['train','test'])"
      ],
      "execution_count": 37,
      "outputs": [
        {
          "output_type": "execute_result",
          "data": {
            "text/plain": [
              "<matplotlib.legend.Legend at 0x7f914f02e438>"
            ]
          },
          "metadata": {
            "tags": []
          },
          "execution_count": 37
        },
        {
          "output_type": "display_data",
          "data": {
            "image/png": "[encoded data removed]",
            "text/plain": [
              "<Figure size 432x288 with 1 Axes>"
            ]
          },
          "metadata": {
            "tags": [],
            "needs_background": "light"
          }
        }
      ]
    },
    {
      "cell_type": "markdown",
      "metadata": {
        "id": "-_rjFP6XPANf"
      },
      "source": [
        "# Q3. Text Classification\n",
        "## Q3.1 RNN"
      ]
    },
    {
      "cell_type": "code",
      "metadata": {
        "id": "4RetFHLkM6E3"
      },
      "source": [
        "from keras.preprocessing.text import Tokenizer\n",
        "from keras.preprocessing import sequence\n",
        "from sklearn.model_selection import train_test_split\n",
        "from keras.callbacks import EarlyStopping\n",
        "from keras.layers import Embedding, LSTM, SpatialDropout1D\n",
        "from tensorflow.keras.preprocessing.sequence import pad_sequences\n",
        "from keras.layers import Dense, Embedding, SimpleRNN, LSTM, GRU, Conv1D, MaxPooling1D, GlobalMaxPooling1D, Dropout\n",
        "import re\n",
        "from keras.models import Sequential"
      ],
      "execution_count": 76,
      "outputs": []
    },
    {
      "cell_type": "code",
      "metadata": {
        "colab": {
          "base_uri": "https://localhost:8080/",
          "height": 212
        },
        "id": "AZY3Nic8Jg8L",
        "outputId": "418cc76b-2037-4e27-b0db-7b06363a6658"
      },
      "source": [
        "from google.colab import drive\n",
        "\n",
        "drive.mount('/content/gdrive/')\n",
        "\n",
        "df = pd.read_csv(\"/content/gdrive/My Drive/anly590-datasets/SPAM_detection.csv\")\n",
        "df.head()"
      ],
      "execution_count": 40,
      "outputs": [
        {
          "output_type": "stream",
          "text": [
            "Mounted at /content/gdrive/\n"
          ],
          "name": "stdout"
        },
        {
          "output_type": "execute_result",
          "data": {
            "text/html": [
              "<div>\n",
              "<style scoped>\n",
              "    .dataframe tbody tr th:only-of-type {\n",
              "        vertical-align: middle;\n",
              "    }\n",
              "\n",
              "    .dataframe tbody tr th {\n",
              "        vertical-align: top;\n",
              "    }\n",
              "\n",
              "    .dataframe thead th {\n",
              "        text-align: right;\n",
              "    }\n",
              "</style>\n",
              "<table border=\"1\" class=\"dataframe\">\n",
              "  <thead>\n",
              "    <tr style=\"text-align: right;\">\n",
              "      <th></th>\n",
              "      <th>Message</th>\n",
              "      <th>category_val</th>\n",
              "    </tr>\n",
              "  </thead>\n",
              "  <tbody>\n",
              "    <tr>\n",
              "      <th>0</th>\n",
              "      <td>Go until jurong point, crazy.. Available only ...</td>\n",
              "      <td>0</td>\n",
              "    </tr>\n",
              "    <tr>\n",
              "      <th>1</th>\n",
              "      <td>Ok lar... Joking wif u oni...</td>\n",
              "      <td>0</td>\n",
              "    </tr>\n",
              "    <tr>\n",
              "      <th>2</th>\n",
              "      <td>Free entry in 2 a wkly comp to win FA Cup fina...</td>\n",
              "      <td>1</td>\n",
              "    </tr>\n",
              "    <tr>\n",
              "      <th>3</th>\n",
              "      <td>U dun say so early hor... U c already then say...</td>\n",
              "      <td>0</td>\n",
              "    </tr>\n",
              "    <tr>\n",
              "      <th>4</th>\n",
              "      <td>Nah I don't think he goes to usf, he lives aro...</td>\n",
              "      <td>0</td>\n",
              "    </tr>\n",
              "  </tbody>\n",
              "</table>\n",
              "</div>"
            ],
            "text/plain": [
              "                                             Message  category_val\n",
              "0  Go until jurong point, crazy.. Available only ...             0\n",
              "1                      Ok lar... Joking wif u oni...             0\n",
              "2  Free entry in 2 a wkly comp to win FA Cup fina...             1\n",
              "3  U dun say so early hor... U c already then say...             0\n",
              "4  Nah I don't think he goes to usf, he lives aro...             0"
            ]
          },
          "metadata": {
            "tags": []
          },
          "execution_count": 40
        }
      ]
    },
    {
      "cell_type": "code",
      "metadata": {
        "id": "uon4YzhBPH47"
      },
      "source": [
        "MAX_NB_WORDS = 50000\n",
        "MAX_SEQUENCE_LENGTH = 250\n",
        "EMBEDDING_DIM = 100"
      ],
      "execution_count": 48,
      "outputs": []
    },
    {
      "cell_type": "code",
      "metadata": {
        "id": "9kpR_tdvNn_Q",
        "colab": {
          "base_uri": "https://localhost:8080/"
        },
        "outputId": "106ad999-3d02-4469-944c-972e397dd96a"
      },
      "source": [
        "tokenizer = Tokenizer(num_words=MAX_NB_WORDS, filters='!\"#$%&()*+,-./:;<=>?@[\\]^_`{|}~', lower=True)\n",
        "tokenizer.fit_on_texts(df['Message'].values)\n",
        "word_index = tokenizer.word_index\n",
        "print(\"unique number of tokens\")\n",
        "print(len(word_index))"
      ],
      "execution_count": 50,
      "outputs": [
        {
          "output_type": "stream",
          "text": [
            "unique number of tokens\n",
            "9006\n"
          ],
          "name": "stdout"
        }
      ]
    },
    {
      "cell_type": "code",
      "metadata": {
        "colab": {
          "base_uri": "https://localhost:8080/"
        },
        "id": "RpelogUIN0Kd",
        "outputId": "728885cd-78b4-40d5-999e-1d49e0291256"
      },
      "source": [
        "X = tokenizer.texts_to_sequences(df['Message'].values)\n",
        "X = pad_sequences(X, maxlen=MAX_SEQUENCE_LENGTH)\n",
        "print('Number of text tensor')\n",
        "print(X.shape)"
      ],
      "execution_count": 51,
      "outputs": [
        {
          "output_type": "stream",
          "text": [
            "Number of text tensor\n",
            "(5572, 250)\n"
          ],
          "name": "stdout"
        }
      ]
    },
    {
      "cell_type": "code",
      "metadata": {
        "colab": {
          "base_uri": "https://localhost:8080/"
        },
        "id": "_znvW-3tOxbL",
        "outputId": "0c194dd8-c72d-4d87-d6ea-eb11c325e8e7"
      },
      "source": [
        "y = pd.get_dummies(df['category_val']).values\n",
        "print( y.shape)"
      ],
      "execution_count": 53,
      "outputs": [
        {
          "output_type": "stream",
          "text": [
            "(5572, 2)\n"
          ],
          "name": "stdout"
        }
      ]
    },
    {
      "cell_type": "code",
      "metadata": {
        "colab": {
          "base_uri": "https://localhost:8080/"
        },
        "id": "sr37WeOLQ9IP",
        "outputId": "68bc4255-e4a8-4f23-9f91-06c2fc4ecc3d"
      },
      "source": [
        "modellstm = Sequential()\n",
        "modellstm.add(Embedding(MAX_NB_WORDS, EMBEDDING_DIM, input_length=X.shape[1]))\n",
        "modellstm.add(SpatialDropout1D(0.2))\n",
        "modellstm.add(LSTM(100, dropout=0.2, recurrent_dropout=0.2))\n",
        "modellstm.add(Dense(2, activation='softmax'))\n",
        "modellstm.compile(loss='categorical_crossentropy', optimizer='adam', metrics=['accuracy'])\n",
        "modellstm.summary()"
      ],
      "execution_count": 61,
      "outputs": [
        {
          "output_type": "stream",
          "text": [
            "Model: \"sequential_11\"\n",
            "_________________________________________________________________\n",
            "Layer (type)                 Output Shape              Param #   \n",
            "=================================================================\n",
            "embedding_3 (Embedding)      (None, 250, 100)          5000000   \n",
            "_________________________________________________________________\n",
            "spatial_dropout1d_1 (Spatial (None, 250, 100)          0         \n",
            "_________________________________________________________________\n",
            "lstm_2 (LSTM)                (None, 100)               80400     \n",
            "_________________________________________________________________\n",
            "dense_10 (Dense)             (None, 2)                 202       \n",
            "=================================================================\n",
            "Total params: 5,080,602\n",
            "Trainable params: 5,080,602\n",
            "Non-trainable params: 0\n",
            "_________________________________________________________________\n"
          ],
          "name": "stdout"
        }
      ]
    },
    {
      "cell_type": "code",
      "metadata": {
        "colab": {
          "base_uri": "https://localhost:8080/"
        },
        "id": "fDJeYs3pSgu7",
        "outputId": "f9052c7a-e3e7-43f9-f80d-155a60d4592f"
      },
      "source": [
        "X_train, X_test, y_train, y_test = train_test_split(X, y, test_size = 0.3, random_state = 919)\n",
        "modellstm.fit(X_train, y_train, epochs=50, batch_size=64,validation_split=0.3)"
      ],
      "execution_count": 63,
      "outputs": [
        {
          "output_type": "stream",
          "text": [
            "Epoch 1/50\n",
            "43/43 [==============================] - 34s 790ms/step - loss: 0.3208 - accuracy: 0.8905 - val_loss: 0.1063 - val_accuracy: 0.9821\n",
            "Epoch 2/50\n",
            "43/43 [==============================] - 33s 774ms/step - loss: 0.0673 - accuracy: 0.9832 - val_loss: 0.0412 - val_accuracy: 0.9880\n",
            "Epoch 3/50\n",
            "43/43 [==============================] - 36s 848ms/step - loss: 0.0297 - accuracy: 0.9923 - val_loss: 0.0393 - val_accuracy: 0.9897\n",
            "Epoch 4/50\n",
            "43/43 [==============================] - 33s 770ms/step - loss: 0.0192 - accuracy: 0.9949 - val_loss: 0.0426 - val_accuracy: 0.9923\n",
            "Epoch 5/50\n",
            "43/43 [==============================] - 33s 771ms/step - loss: 0.0108 - accuracy: 0.9974 - val_loss: 0.0367 - val_accuracy: 0.9897\n",
            "Epoch 6/50\n",
            "43/43 [==============================] - 33s 765ms/step - loss: 0.0068 - accuracy: 0.9978 - val_loss: 0.0457 - val_accuracy: 0.9880\n",
            "Epoch 7/50\n",
            "43/43 [==============================] - 33s 766ms/step - loss: 0.0058 - accuracy: 0.9982 - val_loss: 0.0521 - val_accuracy: 0.9872\n",
            "Epoch 8/50\n",
            "43/43 [==============================] - 33s 777ms/step - loss: 0.0030 - accuracy: 0.9989 - val_loss: 0.0504 - val_accuracy: 0.9897\n",
            "Epoch 9/50\n",
            "43/43 [==============================] - 33s 779ms/step - loss: 0.0016 - accuracy: 0.9996 - val_loss: 0.0524 - val_accuracy: 0.9915\n",
            "Epoch 10/50\n",
            "43/43 [==============================] - 33s 773ms/step - loss: 0.0015 - accuracy: 0.9993 - val_loss: 0.0550 - val_accuracy: 0.9906\n",
            "Epoch 11/50\n",
            "43/43 [==============================] - 34s 784ms/step - loss: 9.9434e-04 - accuracy: 0.9996 - val_loss: 0.0574 - val_accuracy: 0.9897\n",
            "Epoch 12/50\n",
            "43/43 [==============================] - 37s 854ms/step - loss: 7.7827e-04 - accuracy: 1.0000 - val_loss: 0.0642 - val_accuracy: 0.9863\n",
            "Epoch 13/50\n",
            "43/43 [==============================] - 33s 771ms/step - loss: 7.7650e-04 - accuracy: 1.0000 - val_loss: 0.0642 - val_accuracy: 0.9897\n",
            "Epoch 14/50\n",
            "43/43 [==============================] - 34s 780ms/step - loss: 3.9912e-04 - accuracy: 1.0000 - val_loss: 0.0633 - val_accuracy: 0.9906\n",
            "Epoch 15/50\n",
            "43/43 [==============================] - 34s 780ms/step - loss: 4.9290e-04 - accuracy: 1.0000 - val_loss: 0.0678 - val_accuracy: 0.9872\n",
            "Epoch 16/50\n",
            "43/43 [==============================] - 33s 768ms/step - loss: 5.9635e-04 - accuracy: 1.0000 - val_loss: 0.0717 - val_accuracy: 0.9863\n",
            "Epoch 17/50\n",
            "43/43 [==============================] - 33s 769ms/step - loss: 0.0023 - accuracy: 0.9996 - val_loss: 0.0559 - val_accuracy: 0.9863\n",
            "Epoch 18/50\n",
            "43/43 [==============================] - 34s 779ms/step - loss: 6.0517e-04 - accuracy: 1.0000 - val_loss: 0.0527 - val_accuracy: 0.9906\n",
            "Epoch 19/50\n",
            "43/43 [==============================] - 33s 771ms/step - loss: 3.0300e-04 - accuracy: 1.0000 - val_loss: 0.0586 - val_accuracy: 0.9880\n",
            "Epoch 20/50\n",
            "43/43 [==============================] - 33s 774ms/step - loss: 3.0142e-04 - accuracy: 1.0000 - val_loss: 0.0624 - val_accuracy: 0.9872\n",
            "Epoch 21/50\n",
            "43/43 [==============================] - 40s 922ms/step - loss: 2.5476e-04 - accuracy: 1.0000 - val_loss: 0.0641 - val_accuracy: 0.9872\n",
            "Epoch 22/50\n",
            "43/43 [==============================] - 33s 779ms/step - loss: 2.2971e-04 - accuracy: 1.0000 - val_loss: 0.0645 - val_accuracy: 0.9872\n",
            "Epoch 23/50\n",
            "43/43 [==============================] - 33s 775ms/step - loss: 1.7499e-04 - accuracy: 1.0000 - val_loss: 0.0683 - val_accuracy: 0.9872\n",
            "Epoch 24/50\n",
            "43/43 [==============================] - 33s 774ms/step - loss: 1.0423e-04 - accuracy: 1.0000 - val_loss: 0.0686 - val_accuracy: 0.9880\n",
            "Epoch 25/50\n",
            "43/43 [==============================] - 34s 780ms/step - loss: 8.6727e-05 - accuracy: 1.0000 - val_loss: 0.0688 - val_accuracy: 0.9889\n",
            "Epoch 26/50\n",
            "43/43 [==============================] - 33s 773ms/step - loss: 1.0949e-04 - accuracy: 1.0000 - val_loss: 0.0707 - val_accuracy: 0.9880\n",
            "Epoch 27/50\n",
            "43/43 [==============================] - 33s 776ms/step - loss: 9.8265e-05 - accuracy: 1.0000 - val_loss: 0.0725 - val_accuracy: 0.9880\n",
            "Epoch 28/50\n",
            "43/43 [==============================] - 33s 771ms/step - loss: 6.2533e-05 - accuracy: 1.0000 - val_loss: 0.0731 - val_accuracy: 0.9880\n",
            "Epoch 29/50\n",
            "43/43 [==============================] - 33s 769ms/step - loss: 7.8891e-05 - accuracy: 1.0000 - val_loss: 0.0721 - val_accuracy: 0.9889\n",
            "Epoch 30/50\n",
            "43/43 [==============================] - 33s 776ms/step - loss: 5.8426e-05 - accuracy: 1.0000 - val_loss: 0.0730 - val_accuracy: 0.9889\n",
            "Epoch 31/50\n",
            "43/43 [==============================] - 33s 767ms/step - loss: 5.6400e-05 - accuracy: 1.0000 - val_loss: 0.0723 - val_accuracy: 0.9897\n",
            "Epoch 32/50\n",
            "43/43 [==============================] - 33s 767ms/step - loss: 5.1582e-05 - accuracy: 1.0000 - val_loss: 0.0749 - val_accuracy: 0.9889\n",
            "Epoch 33/50\n",
            "43/43 [==============================] - 33s 765ms/step - loss: 5.5278e-05 - accuracy: 1.0000 - val_loss: 0.0766 - val_accuracy: 0.9889\n",
            "Epoch 34/50\n",
            "43/43 [==============================] - 33s 766ms/step - loss: 5.0916e-05 - accuracy: 1.0000 - val_loss: 0.0772 - val_accuracy: 0.9880\n",
            "Epoch 35/50\n",
            "43/43 [==============================] - 33s 761ms/step - loss: 3.6640e-05 - accuracy: 1.0000 - val_loss: 0.0778 - val_accuracy: 0.9889\n",
            "Epoch 36/50\n",
            "43/43 [==============================] - 33s 771ms/step - loss: 2.8268e-05 - accuracy: 1.0000 - val_loss: 0.0769 - val_accuracy: 0.9889\n",
            "Epoch 37/50\n",
            "43/43 [==============================] - 33s 768ms/step - loss: 4.2054e-05 - accuracy: 1.0000 - val_loss: 0.0765 - val_accuracy: 0.9889\n",
            "Epoch 38/50\n",
            "43/43 [==============================] - 36s 826ms/step - loss: 3.5549e-05 - accuracy: 1.0000 - val_loss: 0.0791 - val_accuracy: 0.9889\n",
            "Epoch 39/50\n",
            "43/43 [==============================] - 33s 772ms/step - loss: 2.8997e-05 - accuracy: 1.0000 - val_loss: 0.0798 - val_accuracy: 0.9889\n",
            "Epoch 40/50\n",
            "43/43 [==============================] - 33s 769ms/step - loss: 3.4372e-05 - accuracy: 1.0000 - val_loss: 0.0796 - val_accuracy: 0.9889\n",
            "Epoch 41/50\n",
            "43/43 [==============================] - 33s 767ms/step - loss: 1.7740e-05 - accuracy: 1.0000 - val_loss: 0.0810 - val_accuracy: 0.9889\n",
            "Epoch 42/50\n",
            "43/43 [==============================] - 33s 764ms/step - loss: 2.0338e-05 - accuracy: 1.0000 - val_loss: 0.0816 - val_accuracy: 0.9889\n",
            "Epoch 43/50\n",
            "43/43 [==============================] - 33s 766ms/step - loss: 5.6308e-05 - accuracy: 1.0000 - val_loss: 0.0777 - val_accuracy: 0.9906\n",
            "Epoch 44/50\n",
            "43/43 [==============================] - 33s 769ms/step - loss: 4.9595e-05 - accuracy: 1.0000 - val_loss: 0.0962 - val_accuracy: 0.9838\n",
            "Epoch 45/50\n",
            "43/43 [==============================] - 33s 766ms/step - loss: 2.7891e-05 - accuracy: 1.0000 - val_loss: 0.0800 - val_accuracy: 0.9872\n",
            "Epoch 46/50\n",
            "43/43 [==============================] - 33s 766ms/step - loss: 2.4928e-05 - accuracy: 1.0000 - val_loss: 0.0813 - val_accuracy: 0.9872\n",
            "Epoch 47/50\n",
            "43/43 [==============================] - 33s 767ms/step - loss: 2.2885e-05 - accuracy: 1.0000 - val_loss: 0.0819 - val_accuracy: 0.9872\n",
            "Epoch 48/50\n",
            "43/43 [==============================] - 34s 786ms/step - loss: 3.0557e-05 - accuracy: 1.0000 - val_loss: 0.0834 - val_accuracy: 0.9872\n",
            "Epoch 49/50\n",
            "43/43 [==============================] - 34s 785ms/step - loss: 1.6643e-05 - accuracy: 1.0000 - val_loss: 0.0852 - val_accuracy: 0.9872\n",
            "Epoch 50/50\n",
            "43/43 [==============================] - 33s 769ms/step - loss: 2.1845e-05 - accuracy: 1.0000 - val_loss: 0.0777 - val_accuracy: 0.9906\n"
          ],
          "name": "stdout"
        },
        {
          "output_type": "execute_result",
          "data": {
            "text/plain": [
              "<tensorflow.python.keras.callbacks.History at 0x7f914ac70ef0>"
            ]
          },
          "metadata": {
            "tags": []
          },
          "execution_count": 63
        }
      ]
    },
    {
      "cell_type": "code",
      "metadata": {
        "colab": {
          "base_uri": "https://localhost:8080/"
        },
        "id": "IDGk_uEVtr0m",
        "outputId": "5c9ec5aa-8229-4532-a5a2-dcd2b7091af6"
      },
      "source": [
        "_, acc = modellstm.evaluate(X_test, y_test, verbose=0)\n",
        "print(acc)"
      ],
      "execution_count": 66,
      "outputs": [
        {
          "output_type": "stream",
          "text": [
            "0.9838516712188721\n"
          ],
          "name": "stdout"
        }
      ]
    },
    {
      "cell_type": "markdown",
      "metadata": {
        "id": "PLJhV5cuTX1A"
      },
      "source": [
        "## Q3.2 CNN"
      ]
    },
    {
      "cell_type": "code",
      "metadata": {
        "id": "vNROYscaYaGT"
      },
      "source": [
        "from tensorflow.keras.layers import Conv1D, Convolution1D, GlobalMaxPooling1D, MaxPooling1D, Activation\n",
        "from tensorflow.keras.preprocessing.sequence import pad_sequences\n",
        "from tensorflow.keras.preprocessing import sequence"
      ],
      "execution_count": 67,
      "outputs": []
    },
    {
      "cell_type": "code",
      "metadata": {
        "id": "R3ioXRYoXzel"
      },
      "source": [
        "docs = []\n",
        "sentences = []\n",
        "\n",
        "for sentences in df.Message:\n",
        "    sentences_cleaned = [sent.lower() for sent in sentences]\n",
        "    docs.append(sentences_cleaned)\n"
      ],
      "execution_count": 68,
      "outputs": []
    },
    {
      "cell_type": "code",
      "metadata": {
        "colab": {
          "base_uri": "https://localhost:8080/"
        },
        "id": "3hMBjL0yR5u2",
        "outputId": "1dbb4928-e8ab-49e6-ddfc-42c7e2c08618"
      },
      "source": [
        "txt = ''\n",
        "for doc in docs:\n",
        "    for s in doc:\n",
        "        txt += s\n",
        "chars = set(txt)\n",
        "vocab_size = len(chars)\n",
        "print(\"Total number of chars\")\n",
        "print(len(chars))\n",
        "char_indices = dict((c, i) for i, c in enumerate(chars))\n",
        "indices_char = dict((i, c) for i, c in enumerate(chars))"
      ],
      "execution_count": 69,
      "outputs": [
        {
          "output_type": "stream",
          "text": [
            "Total number of chars\n",
            "90\n"
          ],
          "name": "stdout"
        }
      ]
    },
    {
      "cell_type": "code",
      "metadata": {
        "id": "MvCAtTDXYS-7"
      },
      "source": [
        "maxlen = 1000 \n",
        "nb_filter = 8\n",
        "dense_outputs = 1000\n",
        "filter_kernels = [64, 64, 32, 32, 8, 8]"
      ],
      "execution_count": 70,
      "outputs": []
    },
    {
      "cell_type": "code",
      "metadata": {
        "id": "VjX02NDqZRxp"
      },
      "source": [
        "X = []\n",
        "for sentences in docs:\n",
        "    x = [char_indices[w] for w in sentences]\n",
        "    X.append(x)\n",
        "total_char = pad_sequences(X, maxlen=maxlen)"
      ],
      "execution_count": 72,
      "outputs": []
    },
    {
      "cell_type": "code",
      "metadata": {
        "id": "3a1uvujNbBD7"
      },
      "source": [
        "total_label = pd.get_dummies(df['category_val']).values\n",
        "X_train, X_test, y_train, y_test = train_test_split(total_char, total_label, test_size = 0.3, random_state = 919)\n",
        "\n",
        "max_features = 5000\n",
        "maxlen = 1000\n",
        "embedding_dims = 50\n",
        "filters = 200\n",
        "kernel_size = 3\n",
        "hidden_dims = 200"
      ],
      "execution_count": 74,
      "outputs": []
    },
    {
      "cell_type": "code",
      "metadata": {
        "colab": {
          "base_uri": "https://localhost:8080/"
        },
        "id": "VXjSar1sZVNi",
        "outputId": "1ddd081f-1a76-4763-c927-5ad124f4bad7"
      },
      "source": [
        "model1dcnn = Sequential()\n",
        "model1dcnn.add(Embedding(max_features, embedding_dims, input_length=maxlen))\n",
        "model1dcnn.add(Dropout(0.25))\n",
        "model1dcnn.add(Conv1D(filters, kernel_size, padding='valid', activation='relu', strides=1))\n",
        "model1dcnn.add(GlobalMaxPooling1D())\n",
        "model1dcnn.add(Dense(hidden_dims))\n",
        "model1dcnn.add(Dropout(0.3))\n",
        "model1dcnn.add(Activation('relu'))\n",
        "model1dcnn.add(Dense(2))\n",
        "model1dcnn.add(Activation('sigmoid'))\n",
        "model1dcnn.compile(loss='categorical_crossentropy', optimizer='Adam', metrics=['accuracy'])\n",
        "model1dcnn.summary()"
      ],
      "execution_count": 77,
      "outputs": [
        {
          "output_type": "stream",
          "text": [
            "Model: \"sequential_13\"\n",
            "_________________________________________________________________\n",
            "Layer (type)                 Output Shape              Param #   \n",
            "=================================================================\n",
            "embedding_5 (Embedding)      (None, 1000, 50)          250000    \n",
            "_________________________________________________________________\n",
            "dropout_12 (Dropout)         (None, 1000, 50)          0         \n",
            "_________________________________________________________________\n",
            "conv1d (Conv1D)              (None, 998, 200)          30200     \n",
            "_________________________________________________________________\n",
            "global_max_pooling1d (Global (None, 200)               0         \n",
            "_________________________________________________________________\n",
            "dense_11 (Dense)             (None, 200)               40200     \n",
            "_________________________________________________________________\n",
            "dropout_13 (Dropout)         (None, 200)               0         \n",
            "_________________________________________________________________\n",
            "activation (Activation)      (None, 200)               0         \n",
            "_________________________________________________________________\n",
            "dense_12 (Dense)             (None, 2)                 402       \n",
            "_________________________________________________________________\n",
            "activation_1 (Activation)    (None, 2)                 0         \n",
            "=================================================================\n",
            "Total params: 320,802\n",
            "Trainable params: 320,802\n",
            "Non-trainable params: 0\n",
            "_________________________________________________________________\n"
          ],
          "name": "stdout"
        }
      ]
    },
    {
      "cell_type": "code",
      "metadata": {
        "colab": {
          "base_uri": "https://localhost:8080/"
        },
        "id": "HWUnqykzuihF",
        "outputId": "3d9b40e5-adc0-4c04-e8d6-0bb12eec182b"
      },
      "source": [
        "model1dcnn.fit(X_train, y_train, batch_size=64, epochs=10, validation_data=(X_test, y_test))"
      ],
      "execution_count": 78,
      "outputs": [
        {
          "output_type": "stream",
          "text": [
            "Epoch 1/10\n",
            "61/61 [==============================] - 24s 396ms/step - loss: 0.4291 - accuracy: 0.8605 - val_loss: 0.3934 - val_accuracy: 0.8660\n",
            "Epoch 2/10\n",
            "61/61 [==============================] - 24s 398ms/step - loss: 0.2731 - accuracy: 0.8841 - val_loss: 0.1382 - val_accuracy: 0.9725\n",
            "Epoch 3/10\n",
            "61/61 [==============================] - 24s 397ms/step - loss: 0.0949 - accuracy: 0.9754 - val_loss: 0.0869 - val_accuracy: 0.9773\n",
            "Epoch 4/10\n",
            "61/61 [==============================] - 24s 397ms/step - loss: 0.0827 - accuracy: 0.9777 - val_loss: 0.0768 - val_accuracy: 0.9785\n",
            "Epoch 5/10\n",
            "61/61 [==============================] - 24s 396ms/step - loss: 0.0733 - accuracy: 0.9805 - val_loss: 0.0740 - val_accuracy: 0.9821\n",
            "Epoch 6/10\n",
            "61/61 [==============================] - 24s 397ms/step - loss: 0.0662 - accuracy: 0.9818 - val_loss: 0.0693 - val_accuracy: 0.9803\n",
            "Epoch 7/10\n",
            "61/61 [==============================] - 24s 398ms/step - loss: 0.0577 - accuracy: 0.9854 - val_loss: 0.0672 - val_accuracy: 0.9815\n",
            "Epoch 8/10\n",
            "61/61 [==============================] - 25s 407ms/step - loss: 0.0577 - accuracy: 0.9838 - val_loss: 0.0667 - val_accuracy: 0.9815\n",
            "Epoch 9/10\n",
            "61/61 [==============================] - 24s 401ms/step - loss: 0.0521 - accuracy: 0.9869 - val_loss: 0.0899 - val_accuracy: 0.9749\n",
            "Epoch 10/10\n",
            "61/61 [==============================] - 25s 408ms/step - loss: 0.0509 - accuracy: 0.9869 - val_loss: 0.0661 - val_accuracy: 0.9821\n"
          ],
          "name": "stdout"
        },
        {
          "output_type": "execute_result",
          "data": {
            "text/plain": [
              "<tensorflow.python.keras.callbacks.History at 0x7f914ac52588>"
            ]
          },
          "metadata": {
            "tags": []
          },
          "execution_count": 78
        }
      ]
    },
    {
      "cell_type": "code",
      "metadata": {
        "colab": {
          "base_uri": "https://localhost:8080/"
        },
        "id": "WY3Q_z8nvxgG",
        "outputId": "fbed1d82-949e-432b-b46c-34ee30bbcd01"
      },
      "source": [
        "_, acc = model1dcnn.evaluate(X_test, y_test, verbose=0)\n",
        "print(acc)"
      ],
      "execution_count": 80,
      "outputs": [
        {
          "output_type": "stream",
          "text": [
            "0.9820573925971985\n"
          ],
          "name": "stdout"
        }
      ]
    },
    {
      "cell_type": "markdown",
      "metadata": {
        "id": "myuDrZTlbxTV"
      },
      "source": [
        "## Q3.3 Comparing two methods with an ROC curve"
      ]
    },
    {
      "cell_type": "code",
      "metadata": {
        "id": "p2IkyrBOdLzV"
      },
      "source": [
        "from sklearn.metrics import roc_curve\n",
        "from sklearn.metrics import roc_auc_score\n",
        "import matplotlib.pyplot as plt\n",
        "\n",
        "rnn_predict = modellstm.predict(X_test)\n",
        "cnn_predict = model1dcnn.predict(X_test)\n",
        "\n"
      ],
      "execution_count": 87,
      "outputs": []
    },
    {
      "cell_type": "code",
      "metadata": {
        "id": "MQLtJaQDySIO"
      },
      "source": [
        "FP_rate =dict()\n",
        "TP_rate = dict()\n",
        "ROC1 = dict()\n",
        "for i in range(2):\n",
        "  FP_rate[i],TP_rate[i],_ = roc_curve(y_test[:,i],rnn_predict[:,i])\n",
        "  ROC1[i] = auc(FP_rate[i],TP_rate[i])"
      ],
      "execution_count": 104,
      "outputs": []
    },
    {
      "cell_type": "code",
      "metadata": {
        "id": "k0O6arkqcWjm",
        "colab": {
          "base_uri": "https://localhost:8080/",
          "height": 295
        },
        "outputId": "86bb3885-9718-42da-b832-081de8a7b274"
      },
      "source": [
        "plt.figure()\n",
        "plt.plot(FP_rate[0],TP_rate[0],lw=2,label='ROC curve(Area = %0.2f)'%ROC1[0])\n",
        "plt.plot([0,1],[0,1],lw=2,linestyle='--')\n",
        "plt.xlabel('False Postive Rate')\n",
        "plt.ylabel('True Postive Rate')\n",
        "plt.title('Roc of RNN Model')\n",
        "plt.legend(loc='lower right')\n",
        "plt.show()"
      ],
      "execution_count": 105,
      "outputs": [
        {
          "output_type": "display_data",
          "data": {
            "image/png": "[encoded data removed]",
            "text/plain": [
              "<Figure size 432x288 with 1 Axes>"
            ]
          },
          "metadata": {
            "tags": [],
            "needs_background": "light"
          }
        }
      ]
    },
    {
      "cell_type": "code",
      "metadata": {
        "id": "naN-ZZbB0STX"
      },
      "source": [
        "FP_rate =dict()\n",
        "TP_rate = dict()\n",
        "ROC1 = dict()\n",
        "for i in range(2):\n",
        "  FP_rate[i],TP_rate[i],_ = roc_curve(y_test[:,i],cnn_predict[:,i])\n",
        "  ROC1[i] = auc(FP_rate[i],TP_rate[i])"
      ],
      "execution_count": 106,
      "outputs": []
    },
    {
      "cell_type": "code",
      "metadata": {
        "colab": {
          "base_uri": "https://localhost:8080/",
          "height": 295
        },
        "id": "ihPNRf6c0atH",
        "outputId": "dfb11d2d-9b91-4a4c-9ac1-90960efbee32"
      },
      "source": [
        "plt.figure()\n",
        "plt.plot(FP_rate[0],TP_rate[0],lw=2,label='ROC curve(Area = %0.2f)'%ROC1[0])\n",
        "plt.plot([0,1],[0,1],lw=2,linestyle='--')\n",
        "plt.xlabel('False Postive Rate')\n",
        "plt.ylabel('True Postive Rate')\n",
        "plt.title('Roc of RNN Model')\n",
        "plt.legend(loc='lower right')\n",
        "plt.show()"
      ],
      "execution_count": 107,
      "outputs": [
        {
          "output_type": "display_data",
          "data": {
            "image/png": "[encoded data removed]",
            "text/plain": [
              "<Figure size 432x288 with 1 Axes>"
            ]
          },
          "metadata": {
            "tags": [],
            "needs_background": "light"
          }
        }
      ]
    }
  ]
}